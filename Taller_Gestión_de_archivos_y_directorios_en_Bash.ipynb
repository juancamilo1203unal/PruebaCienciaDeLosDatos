{
  "nbformat": 4,
  "nbformat_minor": 0,
  "metadata": {
    "colab": {
      "name": "Taller: Gestión de archivos y directorios en Bash.ipynb",
      "provenance": [],
      "collapsed_sections": [],
      "include_colab_link": true
    },
    "kernelspec": {
      "name": "python3",
      "display_name": "Python 3"
    }
  },
  "cells": [
    {
      "cell_type": "markdown",
      "metadata": {
        "id": "view-in-github",
        "colab_type": "text"
      },
      "source": [
        "<a href=\"https://colab.research.google.com/github/juancamilo1203unal/PruebaCienciaDeLosDatos/blob/master/Taller_Gesti%C3%B3n_de_archivos_y_directorios_en_Bash.ipynb\" target=\"_parent\"><img src=\"https://colab.research.google.com/assets/colab-badge.svg\" alt=\"Open In Colab\"/></a>"
      ]
    },
    {
      "cell_type": "markdown",
      "metadata": {
        "id": "JMGwYbgIG5gZ",
        "colab_type": "text"
      },
      "source": [
        "**Taller: Gestión de archivos y directorios en Bash**"
      ]
    },
    {
      "cell_type": "code",
      "metadata": {
        "id": "c0o3wDpRGSX_",
        "colab_type": "code",
        "colab": {}
      },
      "source": [
        "!mkdir practica-bash-1 && mkdir ./practica-bash-1/1 && mkdir ./practica-bash-1/2 mkdir ./practica-bash-1/3"
      ],
      "execution_count": 0,
      "outputs": []
    },
    {
      "cell_type": "code",
      "metadata": {
        "id": "0sfslfjcJIql",
        "colab_type": "code",
        "colab": {}
      },
      "source": [
        "!mkdir ./practica-bash-1/1/1-1 && mkdir ./practica-bash-1/1/1-2 && mkdir ./practica-bash-1/1/1-3"
      ],
      "execution_count": 0,
      "outputs": []
    },
    {
      "cell_type": "code",
      "metadata": {
        "id": "N-MEqtgbJpBn",
        "colab_type": "code",
        "colab": {}
      },
      "source": [
        "!mkdir ./practica-bash-1/2/2-1 && mkdir ./practica-bash-1/2/2-2 && mkdir ./practica-bash-1/2/2-3"
      ],
      "execution_count": 0,
      "outputs": []
    },
    {
      "cell_type": "code",
      "metadata": {
        "id": "92UXYOG2JpNZ",
        "colab_type": "code",
        "colab": {}
      },
      "source": [
        "!mkdir ./practica-bash-1/3/3-1 && mkdir ./practica-bash-1/3/3-2 && mkdir ./practica-bash-1/3/1-3"
      ],
      "execution_count": 0,
      "outputs": []
    },
    {
      "cell_type": "code",
      "metadata": {
        "id": "hv3ywuf_IhVV",
        "colab_type": "code",
        "colab": {
          "base_uri": "https://localhost:8080/",
          "height": 50
        },
        "outputId": "ccad8103-78fc-45d9-bc08-2bab43ecad43"
      },
      "source": [
        "!cd practica-bash-1 && pwd && ls"
      ],
      "execution_count": 11,
      "outputs": [
        {
          "output_type": "stream",
          "text": [
            "/content/practica-bash-1\n",
            "1  2  3\n"
          ],
          "name": "stdout"
        }
      ]
    },
    {
      "cell_type": "code",
      "metadata": {
        "id": "q3y9gjEIJ7h8",
        "colab_type": "code",
        "colab": {
          "base_uri": "https://localhost:8080/",
          "height": 286
        },
        "outputId": "3a60b301-dcf2-4bbc-ed7d-f6ed4d2aa129"
      },
      "source": [
        "!apt-get install tree"
      ],
      "execution_count": 15,
      "outputs": [
        {
          "output_type": "stream",
          "text": [
            "Reading package lists... Done\n",
            "Building dependency tree       \n",
            "Reading state information... Done\n",
            "The following NEW packages will be installed:\n",
            "  tree\n",
            "0 upgraded, 1 newly installed, 0 to remove and 8 not upgraded.\n",
            "Need to get 40.7 kB of archives.\n",
            "After this operation, 105 kB of additional disk space will be used.\n",
            "Get:1 http://archive.ubuntu.com/ubuntu bionic/universe amd64 tree amd64 1.7.0-5 [40.7 kB]\n",
            "Fetched 40.7 kB in 1s (79.4 kB/s)\n",
            "Selecting previously unselected package tree.\n",
            "(Reading database ... 131183 files and directories currently installed.)\n",
            "Preparing to unpack .../tree_1.7.0-5_amd64.deb ...\n",
            "Unpacking tree (1.7.0-5) ...\n",
            "Setting up tree (1.7.0-5) ...\n",
            "Processing triggers for man-db (2.8.3-2ubuntu0.1) ...\n"
          ],
          "name": "stdout"
        }
      ]
    },
    {
      "cell_type": "code",
      "metadata": {
        "id": "2YKj47W-Kihb",
        "colab_type": "code",
        "colab": {
          "base_uri": "https://localhost:8080/",
          "height": 420
        },
        "outputId": "89a625c3-7b1b-44a0-fa3a-fadd399f3fcb"
      },
      "source": [
        "!tree"
      ],
      "execution_count": 16,
      "outputs": [
        {
          "output_type": "stream",
          "text": [
            ".\n",
            "├── mkdir\n",
            "├── practica-bash-1\n",
            "│   ├── 1\n",
            "│   │   ├── 1-1\n",
            "│   │   ├── 1-2\n",
            "│   │   └── 1-3\n",
            "│   ├── 2\n",
            "│   │   ├── 2-1\n",
            "│   │   ├── 2-2\n",
            "│   │   └── 2-3\n",
            "│   └── 3\n",
            "│       ├── 3-1\n",
            "│       ├── 3-2\n",
            "│       └── 3-3\n",
            "└── sample_data\n",
            "    ├── anscombe.json\n",
            "    ├── california_housing_test.csv\n",
            "    ├── california_housing_train.csv\n",
            "    ├── mnist_test.csv\n",
            "    ├── mnist_train_small.csv\n",
            "    └── README.md\n",
            "\n",
            "15 directories, 6 files\n"
          ],
          "name": "stdout"
        }
      ]
    },
    {
      "cell_type": "code",
      "metadata": {
        "id": "tLO8fEziKrsE",
        "colab_type": "code",
        "colab": {}
      },
      "source": [
        "!touch ./practica-bash-1/1/1-1/_SUCCESS "
      ],
      "execution_count": 0,
      "outputs": []
    },
    {
      "cell_type": "code",
      "metadata": {
        "id": "BdOIc9KqKru0",
        "colab_type": "code",
        "colab": {}
      },
      "source": [
        "!touch ./practica-bash-1/1/1-1/_SUCCESS"
      ],
      "execution_count": 0,
      "outputs": []
    },
    {
      "cell_type": "code",
      "metadata": {
        "id": "8MGvqzG3KrxG",
        "colab_type": "code",
        "colab": {
          "base_uri": "https://localhost:8080/",
          "height": 34
        },
        "outputId": "06c322f0-a85d-4c98-e688-7200c9950f6a"
      },
      "source": [
        "!cd practica-bash-1"
      ],
      "execution_count": 61,
      "outputs": [
        {
          "output_type": "stream",
          "text": [
            "/bin/bash: line 0: cd: practica-bash-1: No such file or directory\n"
          ],
          "name": "stdout"
        }
      ]
    },
    {
      "cell_type": "code",
      "metadata": {
        "id": "ZVDqDNbmMh8t",
        "colab_type": "code",
        "colab": {
          "base_uri": "https://localhost:8080/",
          "height": 34
        },
        "outputId": "d1648315-b46c-404e-bb9b-f24547303310"
      },
      "source": [
        "cd 1"
      ],
      "execution_count": 67,
      "outputs": [
        {
          "output_type": "stream",
          "text": [
            "/content/practica-bash-1/1\n"
          ],
          "name": "stdout"
        }
      ]
    },
    {
      "cell_type": "code",
      "metadata": {
        "id": "GPC-S-i1PkMa",
        "colab_type": "code",
        "colab": {
          "base_uri": "https://localhost:8080/",
          "height": 34
        },
        "outputId": "10ab08f2-6805-4907-9b38-f70b43a8a9c8"
      },
      "source": [
        "cd 1-1"
      ],
      "execution_count": 68,
      "outputs": [
        {
          "output_type": "stream",
          "text": [
            "/content/practica-bash-1/1/1-1\n"
          ],
          "name": "stdout"
        }
      ]
    },
    {
      "cell_type": "code",
      "metadata": {
        "id": "snHgH62MPb9q",
        "colab_type": "code",
        "colab": {
          "base_uri": "https://localhost:8080/",
          "height": 34
        },
        "outputId": "f17c4d22-4610-451d-b9fc-4beb12361d1b"
      },
      "source": [
        "pwd && ls"
      ],
      "execution_count": 69,
      "outputs": [
        {
          "output_type": "execute_result",
          "data": {
            "text/plain": [
              "'/content/practica-bash-1/1/1-1'"
            ]
          },
          "metadata": {
            "tags": []
          },
          "execution_count": 69
        }
      ]
    },
    {
      "cell_type": "code",
      "metadata": {
        "id": "mIDLIjgLMhzo",
        "colab_type": "code",
        "colab": {}
      },
      "source": [
        "!cp ./practica-bash-1/1/1-1/part-0 ./practica-bash-1/1/1-1/part-1"
      ],
      "execution_count": 0,
      "outputs": []
    },
    {
      "cell_type": "code",
      "metadata": {
        "id": "q8ocHOKkMh22",
        "colab_type": "code",
        "colab": {}
      },
      "source": [
        "!cp part-0 part-2"
      ],
      "execution_count": 0,
      "outputs": []
    },
    {
      "cell_type": "code",
      "metadata": {
        "id": "o83YLb8tMh_d",
        "colab_type": "code",
        "colab": {}
      },
      "source": [
        "!mv part-0 part-0001"
      ],
      "execution_count": 0,
      "outputs": []
    },
    {
      "cell_type": "code",
      "metadata": {
        "id": "RtYWR_RSP5SK",
        "colab_type": "code",
        "colab": {}
      },
      "source": [
        "!mv part-1 part-00001 && mv part-2 part-00002 "
      ],
      "execution_count": 0,
      "outputs": []
    },
    {
      "cell_type": "code",
      "metadata": {
        "id": "dh9VwXb0QL6k",
        "colab_type": "code",
        "colab": {
          "base_uri": "https://localhost:8080/",
          "height": 34
        },
        "outputId": "8d722d3e-9b31-494e-ec78-b31160d5f6f0"
      },
      "source": [
        "pwd"
      ],
      "execution_count": 80,
      "outputs": [
        {
          "output_type": "execute_result",
          "data": {
            "text/plain": [
              "'/content/practica-bash-1/1/1-1'"
            ]
          },
          "metadata": {
            "tags": []
          },
          "execution_count": 80
        }
      ]
    },
    {
      "cell_type": "code",
      "metadata": {
        "id": "OIHCwFCnQOyQ",
        "colab_type": "code",
        "colab": {
          "base_uri": "https://localhost:8080/",
          "height": 34
        },
        "outputId": "61a9d2f3-acad-4105-872b-e528d5cc4767"
      },
      "source": [
        "mv * ../../3/3-3/"
      ],
      "execution_count": 81,
      "outputs": [
        {
          "output_type": "stream",
          "text": [
            "mv: cannot stat '*': No such file or directory\n"
          ],
          "name": "stdout"
        }
      ]
    },
    {
      "cell_type": "code",
      "metadata": {
        "id": "XZ5LMp9tQX8Q",
        "colab_type": "code",
        "colab": {
          "base_uri": "https://localhost:8080/",
          "height": 34
        },
        "outputId": "892c6248-428b-4cdf-d798-0653b564f2ff"
      },
      "source": [
        "pwd"
      ],
      "execution_count": 92,
      "outputs": [
        {
          "output_type": "execute_result",
          "data": {
            "text/plain": [
              "'/content/practica-bash-1/1'"
            ]
          },
          "metadata": {
            "tags": []
          },
          "execution_count": 92
        }
      ]
    },
    {
      "cell_type": "code",
      "metadata": {
        "id": "scyJeFZLQzCe",
        "colab_type": "code",
        "colab": {
          "base_uri": "https://localhost:8080/",
          "height": 34
        },
        "outputId": "3405739b-f65f-44da-da24-0ebc2f5a8f76"
      },
      "source": [
        "cd .."
      ],
      "execution_count": 95,
      "outputs": [
        {
          "output_type": "stream",
          "text": [
            "/content/practica-bash-1\n"
          ],
          "name": "stdout"
        }
      ]
    },
    {
      "cell_type": "code",
      "metadata": {
        "id": "U0jmiaW7RQHk",
        "colab_type": "code",
        "colab": {
          "base_uri": "https://localhost:8080/",
          "height": 34
        },
        "outputId": "fb713df0-c9c9-4da1-eb7e-7697c663b6a6"
      },
      "source": [
        "pwd"
      ],
      "execution_count": 103,
      "outputs": [
        {
          "output_type": "execute_result",
          "data": {
            "text/plain": [
              "'/content/practica-bash-1'"
            ]
          },
          "metadata": {
            "tags": []
          },
          "execution_count": 103
        }
      ]
    },
    {
      "cell_type": "code",
      "metadata": {
        "id": "FUU0-jhxRWy4",
        "colab_type": "code",
        "colab": {
          "base_uri": "https://localhost:8080/",
          "height": 336
        },
        "outputId": "6428599a-e3a4-42f4-ad4c-0cf5b2ed50ea"
      },
      "source": [
        "!tree"
      ],
      "execution_count": 98,
      "outputs": [
        {
          "output_type": "stream",
          "text": [
            ".\n",
            "├── 1\n",
            "│   ├── 1-1\n",
            "│   ├── 1-2\n",
            "│   └── 1-3\n",
            "├── 2\n",
            "│   ├── 2-1\n",
            "│   ├── 2-2\n",
            "│   └── 2-3\n",
            "└── 3\n",
            "    ├── 3-1\n",
            "    ├── 3-2\n",
            "    └── 3-3\n",
            "        ├── part-00001\n",
            "        ├── part-00002\n",
            "        ├── part-0001\n",
            "        └── _SUCCESS\n",
            "\n",
            "12 directories, 4 files\n"
          ],
          "name": "stdout"
        }
      ]
    },
    {
      "cell_type": "code",
      "metadata": {
        "id": "jV57VpqRR2Cl",
        "colab_type": "code",
        "colab": {
          "base_uri": "https://localhost:8080/",
          "height": 34
        },
        "outputId": "3ade81ba-68d2-4856-c2a9-49c566b105da"
      },
      "source": [
        "cd .."
      ],
      "execution_count": 104,
      "outputs": [
        {
          "output_type": "stream",
          "text": [
            "/content\n"
          ],
          "name": "stdout"
        }
      ]
    },
    {
      "cell_type": "code",
      "metadata": {
        "id": "ddNGj8goR5AI",
        "colab_type": "code",
        "colab": {
          "base_uri": "https://localhost:8080/",
          "height": 34
        },
        "outputId": "6b137b61-d80d-4d1c-f314-ad38e919c20d"
      },
      "source": [
        "ls"
      ],
      "execution_count": 106,
      "outputs": [
        {
          "output_type": "stream",
          "text": [
            "\u001b[0m\u001b[01;34mmkdir\u001b[0m/  part-0  part-2  \u001b[01;34mpractica-bash-1\u001b[0m/  \u001b[01;34msample_data\u001b[0m/\n"
          ],
          "name": "stdout"
        }
      ]
    },
    {
      "cell_type": "code",
      "metadata": {
        "id": "0VbsmxBYRhDL",
        "colab_type": "code",
        "colab": {
          "base_uri": "https://localhost:8080/",
          "height": 34
        },
        "outputId": "ba3fe7e8-852d-4573-ad3b-e9e6f9f3c436"
      },
      "source": [
        "!rm practica-bash-1"
      ],
      "execution_count": 109,
      "outputs": [
        {
          "output_type": "stream",
          "text": [
            "rm: cannot remove 'practica-bash-1': Is a directory\n"
          ],
          "name": "stdout"
        }
      ]
    }
  ]
}