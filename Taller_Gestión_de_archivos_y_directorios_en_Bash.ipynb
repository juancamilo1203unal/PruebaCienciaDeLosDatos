{
  "nbformat": 4,
  "nbformat_minor": 0,
  "metadata": {
    "colab": {
      "name": "Taller: Gestión de archivos y directorios en Bash.ipynb",
      "provenance": [],
      "include_colab_link": true
    },
    "kernelspec": {
      "name": "python3",
      "display_name": "Python 3"
    }
  },
  "cells": [
    {
      "cell_type": "markdown",
      "metadata": {
        "id": "view-in-github",
        "colab_type": "text"
      },
      "source": [
        "<a href=\"https://colab.research.google.com/github/juancamilo1203unal/PruebaCienciaDeLosDatos/blob/master/Taller_Gesti%C3%B3n_de_archivos_y_directorios_en_Bash.ipynb\" target=\"_parent\"><img src=\"https://colab.research.google.com/assets/colab-badge.svg\" alt=\"Open In Colab\"/></a>"
      ]
    },
    {
      "cell_type": "markdown",
      "metadata": {
        "id": "JMGwYbgIG5gZ",
        "colab_type": "text"
      },
      "source": [
        "**Taller: Gestión de archivos y directorios en Bash**"
      ]
    },
    {
      "cell_type": "code",
      "metadata": {
        "id": "c0o3wDpRGSX_",
        "colab_type": "code",
        "colab": {}
      },
      "source": [
        "!mkdir practica-bash-1 && mkdir ./practica-bash-1/1 && mkdir ./practica-bash-1/2 mkdir ./practica-bash-1/3"
      ],
      "execution_count": 0,
      "outputs": []
    },
    {
      "cell_type": "code",
      "metadata": {
        "id": "0sfslfjcJIql",
        "colab_type": "code",
        "colab": {}
      },
      "source": [
        "!mkdir ./practica-bash-1/1/1-1 && mkdir ./practica-bash-1/1/1-2 && mkdir ./practica-bash-1/1/1-3"
      ],
      "execution_count": 0,
      "outputs": []
    },
    {
      "cell_type": "code",
      "metadata": {
        "id": "N-MEqtgbJpBn",
        "colab_type": "code",
        "colab": {}
      },
      "source": [
        "!mkdir ./practica-bash-1/2/2-1 && mkdir ./practica-bash-1/2/2-2 && mkdir ./practica-bash-1/2/2-3"
      ],
      "execution_count": 0,
      "outputs": []
    },
    {
      "cell_type": "code",
      "metadata": {
        "id": "92UXYOG2JpNZ",
        "colab_type": "code",
        "colab": {}
      },
      "source": [
        "!mkdir ./practica-bash-1/3/3-1 && mkdir ./practica-bash-1/3/3-2 && mkdir ./practica-bash-1/3/1-3"
      ],
      "execution_count": 0,
      "outputs": []
    },
    {
      "cell_type": "code",
      "metadata": {
        "id": "hv3ywuf_IhVV",
        "colab_type": "code",
        "colab": {
          "base_uri": "https://localhost:8080/",
          "height": 50
        },
        "outputId": "ccad8103-78fc-45d9-bc08-2bab43ecad43"
      },
      "source": [
        "!cd practica-bash-1 && pwd && ls"
      ],
      "execution_count": 11,
      "outputs": [
        {
          "output_type": "stream",
          "text": [
            "/content/practica-bash-1\n",
            "1  2  3\n"
          ],
          "name": "stdout"
        }
      ]
    },
    {
      "cell_type": "code",
      "metadata": {
        "id": "q3y9gjEIJ7h8",
        "colab_type": "code",
        "colab": {
          "base_uri": "https://localhost:8080/",
          "height": 286
        },
        "outputId": "3a60b301-dcf2-4bbc-ed7d-f6ed4d2aa129"
      },
      "source": [
        "!apt-get install tree"
      ],
      "execution_count": 15,
      "outputs": [
        {
          "output_type": "stream",
          "text": [
            "Reading package lists... Done\n",
            "Building dependency tree       \n",
            "Reading state information... Done\n",
            "The following NEW packages will be installed:\n",
            "  tree\n",
            "0 upgraded, 1 newly installed, 0 to remove and 8 not upgraded.\n",
            "Need to get 40.7 kB of archives.\n",
            "After this operation, 105 kB of additional disk space will be used.\n",
            "Get:1 http://archive.ubuntu.com/ubuntu bionic/universe amd64 tree amd64 1.7.0-5 [40.7 kB]\n",
            "Fetched 40.7 kB in 1s (79.4 kB/s)\n",
            "Selecting previously unselected package tree.\n",
            "(Reading database ... 131183 files and directories currently installed.)\n",
            "Preparing to unpack .../tree_1.7.0-5_amd64.deb ...\n",
            "Unpacking tree (1.7.0-5) ...\n",
            "Setting up tree (1.7.0-5) ...\n",
            "Processing triggers for man-db (2.8.3-2ubuntu0.1) ...\n"
          ],
          "name": "stdout"
        }
      ]
    },
    {
      "cell_type": "code",
      "metadata": {
        "id": "2YKj47W-Kihb",
        "colab_type": "code",
        "colab": {
          "base_uri": "https://localhost:8080/",
          "height": 420
        },
        "outputId": "89a625c3-7b1b-44a0-fa3a-fadd399f3fcb"
      },
      "source": [
        "!tree"
      ],
      "execution_count": 16,
      "outputs": [
        {
          "output_type": "stream",
          "text": [
            ".\n",
            "├── mkdir\n",
            "├── practica-bash-1\n",
            "│   ├── 1\n",
            "│   │   ├── 1-1\n",
            "│   │   ├── 1-2\n",
            "│   │   └── 1-3\n",
            "│   ├── 2\n",
            "│   │   ├── 2-1\n",
            "│   │   ├── 2-2\n",
            "│   │   └── 2-3\n",
            "│   └── 3\n",
            "│       ├── 3-1\n",
            "│       ├── 3-2\n",
            "│       └── 3-3\n",
            "└── sample_data\n",
            "    ├── anscombe.json\n",
            "    ├── california_housing_test.csv\n",
            "    ├── california_housing_train.csv\n",
            "    ├── mnist_test.csv\n",
            "    ├── mnist_train_small.csv\n",
            "    └── README.md\n",
            "\n",
            "15 directories, 6 files\n"
          ],
          "name": "stdout"
        }
      ]
    }
  ]
}