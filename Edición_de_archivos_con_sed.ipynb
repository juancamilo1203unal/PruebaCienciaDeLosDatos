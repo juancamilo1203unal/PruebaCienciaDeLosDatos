{
  "nbformat": 4,
  "nbformat_minor": 0,
  "metadata": {
    "colab": {
      "name": "Edición de archivos con sed.ipynb",
      "provenance": [],
      "include_colab_link": true
    },
    "kernelspec": {
      "name": "python3",
      "display_name": "Python 3"
    }
  },
  "cells": [
    {
      "cell_type": "markdown",
      "metadata": {
        "id": "view-in-github",
        "colab_type": "text"
      },
      "source": [
        "<a href=\"https://colab.research.google.com/github/juancamilo1203unal/PruebaCienciaDeLosDatos/blob/master/Edici%C3%B3n_de_archivos_con_sed.ipynb\" target=\"_parent\"><img src=\"https://colab.research.google.com/assets/colab-badge.svg\" alt=\"Open In Colab\"/></a>"
      ]
    },
    {
      "cell_type": "code",
      "metadata": {
        "id": "DD4k_2qBci_6",
        "colab_type": "code",
        "colab": {
          "base_uri": "https://localhost:8080/",
          "height": 353
        },
        "outputId": "de79b94c-edb6-469b-8838-4e0435a2c314"
      },
      "source": [
        "%%bash\n",
        "## se imprimen los primeros 30 números a un archivo\n",
        "seq 30 > out.1\n",
        "echo ''\n",
        "## imprime las líneas 3 a 6\n",
        "sed -n '3,6p' out.1\n",
        "echo ''\n",
        "## imprime las líneas 3 a 6 y 11 a 13\n",
        "sed -n '3,6p; 11,13p' out.1\n",
        "echo ''\n",
        "## de la linea 25 al final\n",
        "sed -n '25,$ p' out.1"
      ],
      "execution_count": 4,
      "outputs": [
        {
          "output_type": "stream",
          "text": [
            "\n",
            "3\n",
            "4\n",
            "5\n",
            "6\n",
            "\n",
            "3\n",
            "4\n",
            "5\n",
            "6\n",
            "11\n",
            "12\n",
            "13\n",
            "\n",
            "25\n",
            "26\n",
            "27\n",
            "28\n",
            "29\n",
            "30\n"
          ],
          "name": "stdout"
        }
      ]
    },
    {
      "cell_type": "code",
      "metadata": {
        "id": "O2kb2BIKdVad",
        "colab_type": "code",
        "colab": {
          "base_uri": "https://localhost:8080/",
          "height": 218
        },
        "outputId": "a9fdb4f7-7321-4ebc-ba71-4a2469ad08b7"
      },
      "source": [
        "## Imprime las lineas que contengan un 1\n",
        "!sed -n '/1/p'  out.1"
      ],
      "execution_count": 6,
      "outputs": [
        {
          "output_type": "stream",
          "text": [
            "1\n",
            "10\n",
            "11\n",
            "12\n",
            "13\n",
            "14\n",
            "15\n",
            "16\n",
            "17\n",
            "18\n",
            "19\n",
            "21\n"
          ],
          "name": "stdout"
        }
      ]
    },
    {
      "cell_type": "code",
      "metadata": {
        "id": "EEVX7q6fdjz4",
        "colab_type": "code",
        "colab": {
          "base_uri": "https://localhost:8080/",
          "height": 722
        },
        "outputId": "35b94580-9561-4fe4-f9eb-1f5fb73dcd2d"
      },
      "source": [
        "## Imprime las lineas que contengan un 1\n",
        "!sed '/1/p'  out.1"
      ],
      "execution_count": 7,
      "outputs": [
        {
          "output_type": "stream",
          "text": [
            "1\n",
            "1\n",
            "2\n",
            "3\n",
            "4\n",
            "5\n",
            "6\n",
            "7\n",
            "8\n",
            "9\n",
            "10\n",
            "10\n",
            "11\n",
            "11\n",
            "12\n",
            "12\n",
            "13\n",
            "13\n",
            "14\n",
            "14\n",
            "15\n",
            "15\n",
            "16\n",
            "16\n",
            "17\n",
            "17\n",
            "18\n",
            "18\n",
            "19\n",
            "19\n",
            "20\n",
            "21\n",
            "21\n",
            "22\n",
            "23\n",
            "24\n",
            "25\n",
            "26\n",
            "27\n",
            "28\n",
            "29\n",
            "30\n"
          ],
          "name": "stdout"
        }
      ]
    },
    {
      "cell_type": "code",
      "metadata": {
        "id": "Dw3zLwcLdvs7",
        "colab_type": "code",
        "colab": {
          "base_uri": "https://localhost:8080/",
          "height": 386
        },
        "outputId": "673b7515-6f17-45b6-ffe9-7febda203b12"
      },
      "source": [
        "## Imprime las líneas que tengaun un 1 al final\n",
        "!sed -n '/1$/p'  out.1\n",
        "!echo ''\n",
        "## Imprime las líneas que tengan un 1 al inicio\n",
        "!sed -n '/^1/p' out.1\n",
        "!echo ''\n",
        "# Borra las líneas 3 a la 26\n",
        "!sed \"3,26 d\" out.1"
      ],
      "execution_count": 12,
      "outputs": [
        {
          "output_type": "stream",
          "text": [
            "1\n",
            "11\n",
            "21\n",
            "\n",
            "1\n",
            "10\n",
            "11\n",
            "12\n",
            "13\n",
            "14\n",
            "15\n",
            "16\n",
            "17\n",
            "18\n",
            "19\n",
            "\n",
            "1\n",
            "2\n",
            "27\n",
            "28\n",
            "29\n",
            "30\n"
          ],
          "name": "stdout"
        }
      ]
    },
    {
      "cell_type": "code",
      "metadata": {
        "id": "wI_EwKSOd_8Z",
        "colab_type": "code",
        "colab": {}
      },
      "source": [
        "#Encadenado de expresiones\n",
        "!sed -e 1d -e 2d out.1"
      ],
      "execution_count": 0,
      "outputs": []
    },
    {
      "cell_type": "code",
      "metadata": {
        "id": "zHLqN6YGfJpR",
        "colab_type": "code",
        "colab": {
          "base_uri": "https://localhost:8080/",
          "height": 470
        },
        "outputId": "f25bf0e5-35d4-4edc-ebd6-9aac038f144c"
      },
      "source": [
        "%%bash\n",
        "echo \"1980-JAN-1+1:0:1.134\n",
        "1980-JAN-5+1:0:1.12\n",
        "1982-JAN-13+10:12:42.33\" > out.1\n",
        "cat out.1\n",
        "echo ''\n",
        "\n",
        "sed 's/-\\([0-9]\\)+/-0\\1+/' out.1 > out.2\n",
        "cat out.2\n",
        "echo ''\n",
        "sed 's/+/ /' out.2 > out.3\n",
        "cat out.3\n",
        "echo ''\n",
        "sed 's/ \\([0-9]\\):/ 0\\1:/' out.3 > out.4\n",
        "cat out.4\n",
        "echo ''\n",
        "sed 's/:\\([0-9]\\):/:0\\1:/' out.4 > out.5\n",
        "cat out.5\n",
        "echo ''\n",
        "sed 's/:\\([0-9]\\)\\./:0\\1./' out.5 > out.6\n",
        "cat out.6\n",
        "echo ''\n",
        "sed 's/\\.[0-9][0-9]*//' out.6 > out.7\n",
        "cat out.7"
      ],
      "execution_count": 17,
      "outputs": [
        {
          "output_type": "stream",
          "text": [
            "1980-JAN-1+1:0:1.134\n",
            "1980-JAN-5+1:0:1.12\n",
            "1982-JAN-13+10:12:42.33\n",
            "\n",
            "1980-JAN-01+1:0:1.134\n",
            "1980-JAN-05+1:0:1.12\n",
            "1982-JAN-13+10:12:42.33\n",
            "\n",
            "1980-JAN-01 1:0:1.134\n",
            "1980-JAN-05 1:0:1.12\n",
            "1982-JAN-13 10:12:42.33\n",
            "\n",
            "1980-JAN-01 01:0:1.134\n",
            "1980-JAN-05 01:0:1.12\n",
            "1982-JAN-13 10:12:42.33\n",
            "\n",
            "1980-JAN-01 01:00:1.134\n",
            "1980-JAN-05 01:00:1.12\n",
            "1982-JAN-13 10:12:42.33\n",
            "\n",
            "1980-JAN-01 01:00:01.134\n",
            "1980-JAN-05 01:00:01.12\n",
            "1982-JAN-13 10:12:42.33\n",
            "\n",
            "1980-JAN-01 01:00:01\n",
            "1980-JAN-05 01:00:01\n",
            "1982-JAN-13 10:12:42\n"
          ],
          "name": "stdout"
        }
      ]
    },
    {
      "cell_type": "code",
      "metadata": {
        "id": "Cxia1LkDjYiU",
        "colab_type": "code",
        "colab": {
          "base_uri": "https://localhost:8080/",
          "height": 218
        },
        "outputId": "9bcc5374-a002-4392-9174-d2351bfb13b8"
      },
      "source": [
        "%%bash\n",
        "echo \"AAAA 1234 SI\n",
        "BBBB 5678 SI\n",
        "CCCC 9012 NO\" > out.1\n",
        "cat out.1\n",
        "echo ''\n",
        "sed '/AAAA/ i\\EEEE 0000 SI/' out.1\n",
        "echo ''\n",
        "sed '/BBBB/ c XXXX 1111 SI' out.1"
      ],
      "execution_count": 21,
      "outputs": [
        {
          "output_type": "stream",
          "text": [
            "AAAA 1234 SI\n",
            "BBBB 5678 SI\n",
            "CCCC 9012 NO\n",
            "\n",
            "EEEE 0000 SI/\n",
            "AAAA 1234 SI\n",
            "BBBB 5678 SI\n",
            "CCCC 9012 NO\n",
            "\n",
            "AAAA 1234 SI\n",
            "XXXX 1111 SI\n",
            "CCCC 9012 NO\n"
          ],
          "name": "stdout"
        }
      ]
    },
    {
      "cell_type": "code",
      "metadata": {
        "id": "VuNbFMp0k6bm",
        "colab_type": "code",
        "colab": {
          "base_uri": "https://localhost:8080/",
          "height": 202
        },
        "outputId": "d5942b14-30ba-48cd-9071-2f8835eb7d21"
      },
      "source": [
        "%%bash\n",
        "echo \"Date, Year, CustomerID, Value\n",
        "2013-01-12, 2013, 1, 100\n",
        "2014-05-12, 2014, 1, 100\n",
        "2013-02-25, 2013, 2, 200\n",
        "2013-04-04, 2013, 1, 100\n",
        "2013-06-21, 2013, 2, 200\n",
        "2014-05-12, 2014, 12, 100\n",
        "2014-05-12, 2014, 2, 200\n",
        "2013-02-28, 2013, 11, 100\n",
        "2013-08-02, 2013, 1, 100\" > out.1\n",
        "cat out.1\n",
        "echo ''"
      ],
      "execution_count": 22,
      "outputs": [
        {
          "output_type": "stream",
          "text": [
            "Date, Year, CustomerID, Value\n",
            "2013-01-12, 2013, 1, 100\n",
            "2014-05-12, 2014, 1, 100\n",
            "2013-02-25, 2013, 2, 200\n",
            "2013-04-04, 2013, 1, 100\n",
            "2013-06-21, 2013, 2, 200\n",
            "2014-05-12, 2014, 12, 100\n",
            "2014-05-12, 2014, 2, 200\n",
            "2013-02-28, 2013, 11, 100\n",
            "2013-08-02, 2013, 1, 100\n",
            "\n"
          ],
          "name": "stdout"
        }
      ]
    }
  ]
}