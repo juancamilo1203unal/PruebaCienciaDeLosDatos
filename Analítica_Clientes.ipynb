{
  "nbformat": 4,
  "nbformat_minor": 0,
  "metadata": {
    "colab": {
      "name": "Analítica Clientes.ipynb",
      "provenance": [],
      "collapsed_sections": [
        "ckBUu8A8PISB",
        "f0NGG1jgUtqa"
      ],
      "authorship_tag": "ABX9TyNOd9cGlthP2UnSOrMeBGVD",
      "include_colab_link": true
    },
    "kernelspec": {
      "name": "python3",
      "display_name": "Python 3"
    },
    "language_info": {
      "name": "python"
    }
  },
  "cells": [
    {
      "cell_type": "markdown",
      "metadata": {
        "id": "view-in-github",
        "colab_type": "text"
      },
      "source": [
        "<a href=\"https://colab.research.google.com/github/juancamilo1203unal/PruebaCienciaDeLosDatos/blob/master/Anal%C3%ADtica_Clientes.ipynb\" target=\"_parent\"><img src=\"https://colab.research.google.com/assets/colab-badge.svg\" alt=\"Open In Colab\"/></a>"
      ]
    },
    {
      "cell_type": "code",
      "metadata": {
        "id": "_lH8dUhaO_vN"
      },
      "source": [
        "# Importar librerías\n",
        "import numpy as np \n",
        "import pandas as pd\n",
        "import matplotlib.pyplot as plt"
      ],
      "execution_count": null,
      "outputs": []
    },
    {
      "cell_type": "markdown",
      "metadata": {
        "id": "ckBUu8A8PISB"
      },
      "source": [
        "# Clientes"
      ]
    },
    {
      "cell_type": "code",
      "metadata": {
        "colab": {
          "base_uri": "https://localhost:8080/"
        },
        "id": "MQ8thBVpPLRa",
        "outputId": "3c917307-3da2-4f6f-d5f1-f2757323625e"
      },
      "source": [
        "# Leer el dataset\n",
        "clientes = pd.read_csv('clientes.csv',\n",
        "    sep = ';',         # Se especifica el separador de los datos\n",
        "    thousands = None,  # Se especifica el separador de miles\n",
        "    decimal = '.')     # Se especifica el separador de los decimales\n",
        "# Imprimir el tamaño de la base de datos\n",
        "print(clientes.shape)\n",
        "# Imprimir las primeras líneas\n",
        "clientes.head()\n",
        "# clientes.describe()"
      ],
      "execution_count": null,
      "outputs": [
        {
          "output_type": "stream",
          "text": [
            "(664, 10)\n"
          ],
          "name": "stdout"
        },
        {
          "output_type": "execute_result",
          "data": {
            "text/html": [
              "<div>\n",
              "<style scoped>\n",
              "    .dataframe tbody tr th:only-of-type {\n",
              "        vertical-align: middle;\n",
              "    }\n",
              "\n",
              "    .dataframe tbody tr th {\n",
              "        vertical-align: top;\n",
              "    }\n",
              "\n",
              "    .dataframe thead th {\n",
              "        text-align: right;\n",
              "    }\n",
              "</style>\n",
              "<table border=\"1\" class=\"dataframe\">\n",
              "  <thead>\n",
              "    <tr style=\"text-align: right;\">\n",
              "      <th></th>\n",
              "      <th>IdCliente</th>\n",
              "      <th>NombreCliente</th>\n",
              "      <th>DireccionBasica</th>\n",
              "      <th>Direccion2</th>\n",
              "      <th>Barrio</th>\n",
              "      <th>Ciudad</th>\n",
              "      <th>Contacto</th>\n",
              "      <th>IdVendedor</th>\n",
              "      <th>NombreVendedor</th>\n",
              "      <th>EsVendedor</th>\n",
              "    </tr>\n",
              "  </thead>\n",
              "  <tbody>\n",
              "    <tr>\n",
              "      <th>0</th>\n",
              "      <td>C0001</td>\n",
              "      <td>Angélica María</td>\n",
              "      <td>Cra. 59 #27-71</td>\n",
              "      <td>apto 1924, urbanización amazónica</td>\n",
              "      <td>Las Cabañas</td>\n",
              "      <td>Bello, Antioquia</td>\n",
              "      <td>3002643511</td>\n",
              "      <td>V008</td>\n",
              "      <td>Aleja</td>\n",
              "      <td>0</td>\n",
              "    </tr>\n",
              "    <tr>\n",
              "      <th>1</th>\n",
              "      <td>C0002</td>\n",
              "      <td>José Alejandro Restrepo</td>\n",
              "      <td>Cl. 11c sur #48b-06</td>\n",
              "      <td>Al lado de Eafit</td>\n",
              "      <td>Aguacatala</td>\n",
              "      <td>Medellin, Antioquia</td>\n",
              "      <td>3003361327</td>\n",
              "      <td>V008</td>\n",
              "      <td>Aleja</td>\n",
              "      <td>0</td>\n",
              "    </tr>\n",
              "    <tr>\n",
              "      <th>2</th>\n",
              "      <td>C0003</td>\n",
              "      <td>Yony Morales</td>\n",
              "      <td>Cl. 105 64E - 33</td>\n",
              "      <td>NaN</td>\n",
              "      <td>Gratamira sector zenu</td>\n",
              "      <td>Medellin, Antioquia</td>\n",
              "      <td>3012896731</td>\n",
              "      <td>V008</td>\n",
              "      <td>Aleja</td>\n",
              "      <td>0</td>\n",
              "    </tr>\n",
              "    <tr>\n",
              "      <th>3</th>\n",
              "      <td>C0004</td>\n",
              "      <td>Alejandra Martinez</td>\n",
              "      <td>Cl. 63 #80a-40</td>\n",
              "      <td>Edificio crucero de la 80, apto 405-torre 2</td>\n",
              "      <td>Robledo jordan</td>\n",
              "      <td>Medellin, Antioquia</td>\n",
              "      <td>3015704173</td>\n",
              "      <td>V008</td>\n",
              "      <td>Aleja</td>\n",
              "      <td>0</td>\n",
              "    </tr>\n",
              "    <tr>\n",
              "      <th>4</th>\n",
              "      <td>C0005</td>\n",
              "      <td>Alejandra Gañán</td>\n",
              "      <td>Cl. 64g #92c-19</td>\n",
              "      <td>unidad balcón del valle</td>\n",
              "      <td>Robledo la campiña</td>\n",
              "      <td>Medellin, Antioquia</td>\n",
              "      <td>3053445941</td>\n",
              "      <td>V008</td>\n",
              "      <td>Aleja</td>\n",
              "      <td>0</td>\n",
              "    </tr>\n",
              "  </tbody>\n",
              "</table>\n",
              "</div>"
            ],
            "text/plain": [
              "  IdCliente            NombreCliente  ... NombreVendedor EsVendedor\n",
              "0     C0001           Angélica María  ...          Aleja          0\n",
              "1     C0002  José Alejandro Restrepo  ...          Aleja          0\n",
              "2     C0003             Yony Morales  ...          Aleja          0\n",
              "3     C0004       Alejandra Martinez  ...          Aleja          0\n",
              "4     C0005          Alejandra Gañán  ...          Aleja          0\n",
              "\n",
              "[5 rows x 10 columns]"
            ]
          },
          "metadata": {
            "tags": []
          },
          "execution_count": 4
        }
      ]
    },
    {
      "cell_type": "markdown",
      "metadata": {
        "id": "IdiXQuwzQ3uR"
      },
      "source": [
        "**Analítica**"
      ]
    },
    {
      "cell_type": "code",
      "metadata": {
        "colab": {
          "base_uri": "https://localhost:8080/"
        },
        "id": "V5_s9MYyQ48A",
        "outputId": "833d4735-b1d2-4f59-bffb-563a5200c77e"
      },
      "source": [
        "# Tamaño de la gráfica\n",
        "plt.figure(figsize=(10,4))\n",
        "# Gráficar\n",
        "clientes[\"NombreVendedor\"].value_counts().plot(kind='bar')"
      ],
      "execution_count": null,
      "outputs": [
        {
          "output_type": "execute_result",
          "data": {
            "text/plain": [
              "<matplotlib.axes._subplots.AxesSubplot at 0x7fcec24d6bd0>"
            ]
          },
          "metadata": {
            "tags": []
          },
          "execution_count": 5
        },
        {
          "output_type": "display_data",
          "data": {
            "image/png": "[encoded data removed]",
            "text/plain": [
              "<Figure size 720x288 with 1 Axes>"
            ]
          },
          "metadata": {
            "tags": [],
            "needs_background": "light"
          }
        }
      ]
    },
    {
      "cell_type": "code",
      "metadata": {
        "colab": {
          "base_uri": "https://localhost:8080/"
        },
        "id": "dftiOHevSxI5",
        "outputId": "60cf67cc-8c95-4b12-8e15-c2240737e156"
      },
      "source": [
        "# Tamaño de la gráfica\n",
        "plt.figure(figsize=(10,4))\n",
        "# Gráficar\n",
        "clientes[\"Ciudad\"].value_counts().plot(kind='bar')"
      ],
      "execution_count": null,
      "outputs": [
        {
          "output_type": "execute_result",
          "data": {
            "text/plain": [
              "<matplotlib.axes._subplots.AxesSubplot at 0x7fcec236bcd0>"
            ]
          },
          "metadata": {
            "tags": []
          },
          "execution_count": 6
        },
        {
          "output_type": "display_data",
          "data": {
            "image/png": "[encoded data removed]",
            "text/plain": [
              "<Figure size 720x288 with 1 Axes>"
            ]
          },
          "metadata": {
            "tags": [],
            "needs_background": "light"
          }
        }
      ]
    },
    {
      "cell_type": "code",
      "metadata": {
        "colab": {
          "base_uri": "https://localhost:8080/"
        },
        "id": "-OtiD5vvSAfC",
        "outputId": "dd15cb4a-8537-4643-d3d9-60766728b248"
      },
      "source": [
        "# Tamaño de la gráfica\n",
        "plt.figure(figsize=(10,4))\n",
        "# Gráficar\n",
        "clientes[\"Barrio\"].value_counts().nlargest(20).plot(kind='bar')"
      ],
      "execution_count": null,
      "outputs": [
        {
          "output_type": "execute_result",
          "data": {
            "text/plain": [
              "<matplotlib.axes._subplots.AxesSubplot at 0x7fcec1e36250>"
            ]
          },
          "metadata": {
            "tags": []
          },
          "execution_count": 7
        },
        {
          "output_type": "display_data",
          "data": {
            "image/png": "[encoded data removed]",
            "text/plain": [
              "<Figure size 720x288 with 1 Axes>"
            ]
          },
          "metadata": {
            "tags": [],
            "needs_background": "light"
          }
        }
      ]
    },
    {
      "cell_type": "markdown",
      "metadata": {
        "id": "f0NGG1jgUtqa"
      },
      "source": [
        "# Pedidos"
      ]
    },
    {
      "cell_type": "code",
      "metadata": {
        "colab": {
          "base_uri": "https://localhost:8080/"
        },
        "id": "DZblDKfKUxfI",
        "outputId": "e567a637-101d-4185-f49b-2f7bef3105c8"
      },
      "source": [
        "# Leer el dataset\n",
        "pedidos = pd.read_csv('pedidos.csv',\n",
        "    sep = ';',         # Se especifica el separador de los datos\n",
        "    thousands = None,  # Se especifica el separador de miles\n",
        "    decimal = '.')     # Se especifica el separador de los decimales\n",
        "# Imprimir el tamaño de la base de datos\n",
        "print(pedidos.shape)\n",
        "# Imprimir las primeras líneas\n",
        "pedidos.head(2)\n",
        "# clientes.describe()"
      ],
      "execution_count": null,
      "outputs": [
        {
          "output_type": "stream",
          "text": [
            "(2392, 21)\n"
          ],
          "name": "stdout"
        },
        {
          "output_type": "execute_result",
          "data": {
            "text/html": [
              "<div>\n",
              "<style scoped>\n",
              "    .dataframe tbody tr th:only-of-type {\n",
              "        vertical-align: middle;\n",
              "    }\n",
              "\n",
              "    .dataframe tbody tr th {\n",
              "        vertical-align: top;\n",
              "    }\n",
              "\n",
              "    .dataframe thead th {\n",
              "        text-align: right;\n",
              "    }\n",
              "</style>\n",
              "<table border=\"1\" class=\"dataframe\">\n",
              "  <thead>\n",
              "    <tr style=\"text-align: right;\">\n",
              "      <th></th>\n",
              "      <th>IdPedido</th>\n",
              "      <th>FechaPedido</th>\n",
              "      <th>NumeroPedido</th>\n",
              "      <th>IdCliente</th>\n",
              "      <th>NombreCliente</th>\n",
              "      <th>DireccionBasica</th>\n",
              "      <th>Direccion2</th>\n",
              "      <th>Barrio</th>\n",
              "      <th>Ciudad</th>\n",
              "      <th>Contacto</th>\n",
              "      <th>IdVendedor</th>\n",
              "      <th>NombreVendedor</th>\n",
              "      <th>NumPaquetesTradicional</th>\n",
              "      <th>ValorFabricaTradicional</th>\n",
              "      <th>NumPaquetesPicantes</th>\n",
              "      <th>ValorFabricaPicante</th>\n",
              "      <th>Valor</th>\n",
              "      <th>MedioDePago</th>\n",
              "      <th>NumPaqGananciaDeVenta</th>\n",
              "      <th>NotaPedido</th>\n",
              "      <th>EstadoPedido</th>\n",
              "    </tr>\n",
              "  </thead>\n",
              "  <tbody>\n",
              "    <tr>\n",
              "      <th>0</th>\n",
              "      <td>P000001</td>\n",
              "      <td>30/05/2020</td>\n",
              "      <td>1</td>\n",
              "      <td>C0215</td>\n",
              "      <td>Estefany Bilbao</td>\n",
              "      <td>Cra. 75 #97-50</td>\n",
              "      <td>piso 1</td>\n",
              "      <td>Castilla</td>\n",
              "      <td>Medellin, Antioquia</td>\n",
              "      <td>3013900129</td>\n",
              "      <td>V001</td>\n",
              "      <td>Internos</td>\n",
              "      <td>1.0</td>\n",
              "      <td>11000.0</td>\n",
              "      <td>0</td>\n",
              "      <td>0</td>\n",
              "      <td>10000</td>\n",
              "      <td>Efectivo</td>\n",
              "      <td>0.0</td>\n",
              "      <td>NaN</td>\n",
              "      <td>Pago</td>\n",
              "    </tr>\n",
              "    <tr>\n",
              "      <th>1</th>\n",
              "      <td>P000002</td>\n",
              "      <td>30/05/2020</td>\n",
              "      <td>2</td>\n",
              "      <td>C0249</td>\n",
              "      <td>Juan o Lady</td>\n",
              "      <td>Cl. 92 #66a-10</td>\n",
              "      <td>NaN</td>\n",
              "      <td>Francisco Antonio Zea</td>\n",
              "      <td>Medellin, Antioquia</td>\n",
              "      <td>3504824820</td>\n",
              "      <td>V001</td>\n",
              "      <td>Internos</td>\n",
              "      <td>3.0</td>\n",
              "      <td>33000.0</td>\n",
              "      <td>0</td>\n",
              "      <td>0</td>\n",
              "      <td>30000</td>\n",
              "      <td>Transferencia</td>\n",
              "      <td>0.0</td>\n",
              "      <td>NaN</td>\n",
              "      <td>Pago</td>\n",
              "    </tr>\n",
              "  </tbody>\n",
              "</table>\n",
              "</div>"
            ],
            "text/plain": [
              "  IdPedido FechaPedido  ...  NotaPedido EstadoPedido\n",
              "0  P000001  30/05/2020  ...         NaN         Pago\n",
              "1  P000002  30/05/2020  ...         NaN         Pago\n",
              "\n",
              "[2 rows x 21 columns]"
            ]
          },
          "metadata": {
            "tags": []
          },
          "execution_count": 8
        }
      ]
    },
    {
      "cell_type": "code",
      "metadata": {
        "colab": {
          "base_uri": "https://localhost:8080/"
        },
        "id": "joj2OEq8VUXp",
        "outputId": "240095bc-5129-46b5-eae4-662f9cb4eefd"
      },
      "source": [
        "# Tamaño de la gráfica\n",
        "plt.figure(figsize=(10,4))\n",
        "# Gráficar\n",
        "pedidos[\"EstadoPedido\"].value_counts().plot(kind='bar')"
      ],
      "execution_count": null,
      "outputs": [
        {
          "output_type": "execute_result",
          "data": {
            "text/plain": [
              "<matplotlib.axes._subplots.AxesSubplot at 0x7fcec1cff690>"
            ]
          },
          "metadata": {
            "tags": []
          },
          "execution_count": 9
        },
        {
          "output_type": "display_data",
          "data": {
            "image/png": "[encoded data removed]",
            "text/plain": [
              "<Figure size 720x288 with 1 Axes>"
            ]
          },
          "metadata": {
            "tags": [],
            "needs_background": "light"
          }
        }
      ]
    },
    {
      "cell_type": "code",
      "metadata": {
        "colab": {
          "base_uri": "https://localhost:8080/"
        },
        "id": "uBI8vmpKeoUL",
        "outputId": "4f0a24d9-04ff-4294-89c7-f01b54dba526"
      },
      "source": [
        "# Ahora graficaremos la cantidad mujeres y de hombres que realizaron compras\n",
        "\n",
        "# Tamaño de la gráfica\n",
        "plt.figure(figsize=(5,5)) \n",
        "# Título de la imagen y tamaño del título\n",
        "# plt.title('Género', fontsize=20) \n",
        "# Gráficar\n",
        "pedidos[\"MedioDePago\"].value_counts().plot.pie(autopct='%1.1f%%', shadow=True, fontsize=14, startangle=25)"
      ],
      "execution_count": null,
      "outputs": [
        {
          "output_type": "execute_result",
          "data": {
            "text/plain": [
              "<matplotlib.axes._subplots.AxesSubplot at 0x7fcec1c80250>"
            ]
          },
          "metadata": {
            "tags": []
          },
          "execution_count": 10
        },
        {
          "output_type": "display_data",
          "data": {
            "image/png": "[encoded data removed]",
            "text/plain": [
              "<Figure size 360x360 with 1 Axes>"
            ]
          },
          "metadata": {
            "tags": []
          }
        }
      ]
    },
    {
      "cell_type": "code",
      "metadata": {
        "colab": {
          "base_uri": "https://localhost:8080/"
        },
        "id": "JGcg3DX1b9SS",
        "outputId": "e79ef95a-ab97-46ab-8644-fba19a95414c"
      },
      "source": [
        "\n",
        "import seaborn as sns\n",
        "\n",
        "# Esta función realiza una suma de cada categoría y luego las grafica \n",
        "sns.countplot(pedidos[\"MedioDePago\"])"
      ],
      "execution_count": null,
      "outputs": [
        {
          "output_type": "stream",
          "text": [
            "/usr/local/lib/python3.7/dist-packages/seaborn/_decorators.py:43: FutureWarning: Pass the following variable as a keyword arg: x. From version 0.12, the only valid positional argument will be `data`, and passing other arguments without an explicit keyword will result in an error or misinterpretation.\n",
            "  FutureWarning\n"
          ],
          "name": "stderr"
        },
        {
          "output_type": "execute_result",
          "data": {
            "text/plain": [
              "<matplotlib.axes._subplots.AxesSubplot at 0x7fceb3480350>"
            ]
          },
          "metadata": {
            "tags": []
          },
          "execution_count": 11
        },
        {
          "output_type": "display_data",
          "data": {
            "image/png": "[encoded data removed]",
            "text/plain": [
              "<Figure size 432x288 with 1 Axes>"
            ]
          },
          "metadata": {
            "tags": [],
            "needs_background": "light"
          }
        }
      ]
    },
    {
      "cell_type": "code",
      "metadata": {
        "colab": {
          "base_uri": "https://localhost:8080/"
        },
        "id": "EWnBavIgcHcR",
        "outputId": "2211c8cd-3565-471c-a13c-d2c901e7b169"
      },
      "source": [
        "# Tamaño de la gráfica\n",
        "plt.figure(figsize=(10,4))\n",
        "# Gráficar\n",
        "pedidos[\"NumPaquetesTradicional\"].value_counts().nlargest(10).plot(kind='bar')"
      ],
      "execution_count": null,
      "outputs": [
        {
          "output_type": "execute_result",
          "data": {
            "text/plain": [
              "<matplotlib.axes._subplots.AxesSubplot at 0x7fceb3711150>"
            ]
          },
          "metadata": {
            "tags": []
          },
          "execution_count": 12
        },
        {
          "output_type": "display_data",
          "data": {
            "image/png": "[encoded data removed]",
            "text/plain": [
              "<Figure size 720x288 with 1 Axes>"
            ]
          },
          "metadata": {
            "tags": [],
            "needs_background": "light"
          }
        }
      ]
    },
    {
      "cell_type": "code",
      "metadata": {
        "colab": {
          "base_uri": "https://localhost:8080/"
        },
        "id": "ODuTv7Gqd3Fq",
        "outputId": "90f8399f-9e27-4330-bfa1-d93ece4f0f7b"
      },
      "source": [
        "# Tamaño de la gráfica\n",
        "plt.figure(figsize=(10,4))\n",
        "# Gráficar\n",
        "pedidos[\"NumPaquetesPicantes\"].value_counts().nlargest(5).plot(kind='bar')"
      ],
      "execution_count": null,
      "outputs": [
        {
          "output_type": "execute_result",
          "data": {
            "text/plain": [
              "<matplotlib.axes._subplots.AxesSubplot at 0x7fceb2e5e750>"
            ]
          },
          "metadata": {
            "tags": []
          },
          "execution_count": 13
        },
        {
          "output_type": "display_data",
          "data": {
            "image/png": "[encoded data removed]",
            "text/plain": [
              "<Figure size 720x288 with 1 Axes>"
            ]
          },
          "metadata": {
            "tags": [],
            "needs_background": "light"
          }
        }
      ]
    },
    {
      "cell_type": "code",
      "metadata": {
        "colab": {
          "base_uri": "https://localhost:8080/"
        },
        "id": "FgPC1blmceeR",
        "outputId": "15da381c-25c3-473f-abda-8e30b1d5d95d"
      },
      "source": [
        "# Tamaño de la gráfica\n",
        "plt.figure(figsize=(10,4))\n",
        "# Gráficar\n",
        "pedidos[\"NombreVendedor\"].value_counts().plot(kind='bar')"
      ],
      "execution_count": null,
      "outputs": [
        {
          "output_type": "execute_result",
          "data": {
            "text/plain": [
              "<matplotlib.axes._subplots.AxesSubplot at 0x7fceb37bfc90>"
            ]
          },
          "metadata": {
            "tags": []
          },
          "execution_count": 14
        },
        {
          "output_type": "display_data",
          "data": {
            "image/png": "[encoded data removed]",
            "text/plain": [
              "<Figure size 720x288 with 1 Axes>"
            ]
          },
          "metadata": {
            "tags": [],
            "needs_background": "light"
          }
        }
      ]
    },
    {
      "cell_type": "code",
      "metadata": {
        "colab": {
          "base_uri": "https://localhost:8080/"
        },
        "id": "ebZSBYD7gIFz",
        "outputId": "8cdb6749-ad3f-4e4c-b284-11aa491aeaf6"
      },
      "source": [
        "# Tamaño de la gráfica\n",
        "plt.figure(figsize=(20,4))\n",
        "# Suma y gráfica de si tiene crédito personal y agrupados por la respuesta final del cliente\n",
        "sns.countplot(x=\"NombreVendedor\", hue=\"MedioDePago\", data=pedidos)"
      ],
      "execution_count": null,
      "outputs": [
        {
          "output_type": "execute_result",
          "data": {
            "text/plain": [
              "<matplotlib.axes._subplots.AxesSubplot at 0x7fceb2d6c290>"
            ]
          },
          "metadata": {
            "tags": []
          },
          "execution_count": 15
        },
        {
          "output_type": "display_data",
          "data": {
            "image/png": "[encoded data removed]",
            "text/plain": [
              "<Figure size 1440x288 with 1 Axes>"
            ]
          },
          "metadata": {
            "tags": [],
            "needs_background": "light"
          }
        }
      ]
    },
    {
      "cell_type": "code",
      "metadata": {
        "colab": {
          "base_uri": "https://localhost:8080/"
        },
        "id": "IZLrKcrAceg5",
        "outputId": "9c33f771-7f10-4da8-c64a-42c952deced6"
      },
      "source": [
        "# Tamaño de la gráfica\n",
        "plt.figure(figsize=(10,4))\n",
        "# Gráficar\n",
        "pedidos[\"Ciudad\"].value_counts().plot(kind='bar')"
      ],
      "execution_count": null,
      "outputs": [
        {
          "output_type": "execute_result",
          "data": {
            "text/plain": [
              "<matplotlib.axes._subplots.AxesSubplot at 0x7fceb2bfe650>"
            ]
          },
          "metadata": {
            "tags": []
          },
          "execution_count": 16
        },
        {
          "output_type": "display_data",
          "data": {
            "image/png": "[encoded data removed]",
            "text/plain": [
              "<Figure size 720x288 with 1 Axes>"
            ]
          },
          "metadata": {
            "tags": [],
            "needs_background": "light"
          }
        }
      ]
    },
    {
      "cell_type": "code",
      "metadata": {
        "colab": {
          "base_uri": "https://localhost:8080/"
        },
        "id": "MTFtXzMScejy",
        "outputId": "45e45aaf-a870-4213-8bdf-1fad4515d3f0"
      },
      "source": [
        "# Tamaño de la gráfica\n",
        "plt.figure(figsize=(10,4))\n",
        "# Gráficar\n",
        "pedidos[\"Barrio\"].value_counts().nlargest(20).plot(kind='bar')"
      ],
      "execution_count": null,
      "outputs": [
        {
          "output_type": "execute_result",
          "data": {
            "text/plain": [
              "<matplotlib.axes._subplots.AxesSubplot at 0x7fceb2b7e810>"
            ]
          },
          "metadata": {
            "tags": []
          },
          "execution_count": 17
        },
        {
          "output_type": "display_data",
          "data": {
            "image/png": "[encoded data removed]",
            "text/plain": [
              "<Figure size 720x288 with 1 Axes>"
            ]
          },
          "metadata": {
            "tags": [],
            "needs_background": "light"
          }
        }
      ]
    },
    {
      "cell_type": "code",
      "metadata": {
        "colab": {
          "base_uri": "https://localhost:8080/"
        },
        "id": "sOCAsk-2U-xL",
        "outputId": "9a61b185-0683-4d73-d730-7779a8f9d556"
      },
      "source": [
        "# Tamaño de la gráfica\n",
        "plt.figure(figsize=(10,4))\n",
        "# Gráficar\n",
        "pedidos[\"NombreCliente\"].value_counts().nlargest(20).plot(kind='bar')"
      ],
      "execution_count": null,
      "outputs": [
        {
          "output_type": "execute_result",
          "data": {
            "text/plain": [
              "<matplotlib.axes._subplots.AxesSubplot at 0x7fceb2a58410>"
            ]
          },
          "metadata": {
            "tags": []
          },
          "execution_count": 18
        },
        {
          "output_type": "display_data",
          "data": {
            "image/png": "[encoded data removed]",
            "text/plain": [
              "<Figure size 720x288 with 1 Axes>"
            ]
          },
          "metadata": {
            "tags": [],
            "needs_background": "light"
          }
        }
      ]
    },
    {
      "cell_type": "code",
      "metadata": {
        "colab": {
          "base_uri": "https://localhost:8080/"
        },
        "id": "Tz4Z0AB2cepH",
        "outputId": "cf4141f5-c9a1-4e79-cf3c-55a4f0e2670e"
      },
      "source": [
        "plt.figure(figsize=(20,4))\n",
        "# Esta función realiza una suma de cada categoría y luego las grafica \n",
        "sns.countplot(pedidos[\"FechaPedido\"])"
      ],
      "execution_count": null,
      "outputs": [
        {
          "output_type": "stream",
          "text": [
            "/usr/local/lib/python3.7/dist-packages/seaborn/_decorators.py:43: FutureWarning: Pass the following variable as a keyword arg: x. From version 0.12, the only valid positional argument will be `data`, and passing other arguments without an explicit keyword will result in an error or misinterpretation.\n",
            "  FutureWarning\n"
          ],
          "name": "stderr"
        },
        {
          "output_type": "execute_result",
          "data": {
            "text/plain": [
              "<matplotlib.axes._subplots.AxesSubplot at 0x7fceb2a5ee50>"
            ]
          },
          "metadata": {
            "tags": []
          },
          "execution_count": 19
        },
        {
          "output_type": "display_data",
          "data": {
            "image/png": "[encoded data removed]",
            "text/plain": [
              "<Figure size 1440x288 with 1 Axes>"
            ]
          },
          "metadata": {
            "tags": [],
            "needs_background": "light"
          }
        }
      ]
    },
    {
      "cell_type": "code",
      "metadata": {
        "id": "h3JekoksiZFr"
      },
      "source": [
        ""
      ],
      "execution_count": null,
      "outputs": []
    },
    {
      "cell_type": "code",
      "metadata": {
        "id": "jjOL1oWxiZIP"
      },
      "source": [
        ""
      ],
      "execution_count": null,
      "outputs": []
    },
    {
      "cell_type": "code",
      "metadata": {
        "id": "Hi538IDKiZK6"
      },
      "source": [
        ""
      ],
      "execution_count": null,
      "outputs": []
    },
    {
      "cell_type": "code",
      "metadata": {
        "colab": {
          "base_uri": "https://localhost:8080/"
        },
        "id": "BXqrJrzkjb1T",
        "outputId": "90566932-ce21-49b2-f10b-d9cc4fb2ed2e"
      },
      "source": [
        "newDf = pedidos[['FechaPedido', 'IdCliente','NombreVendedor', 'NumPaquetesTradicional', 'NumPaquetesPicantes']]\n",
        "newDf.FechaPedido = pd.to_datetime(newDf.FechaPedido, dayfirst=True).dt.date #, dayfirst=True\n",
        "newDf.head()"
      ],
      "execution_count": null,
      "outputs": [
        {
          "output_type": "stream",
          "text": [
            "/usr/local/lib/python3.7/dist-packages/pandas/core/generic.py:5170: SettingWithCopyWarning: \n",
            "A value is trying to be set on a copy of a slice from a DataFrame.\n",
            "Try using .loc[row_indexer,col_indexer] = value instead\n",
            "\n",
            "See the caveats in the documentation: https://pandas.pydata.org/pandas-docs/stable/user_guide/indexing.html#returning-a-view-versus-a-copy\n",
            "  self[name] = value\n"
          ],
          "name": "stderr"
        },
        {
          "output_type": "execute_result",
          "data": {
            "text/html": [
              "<div>\n",
              "<style scoped>\n",
              "    .dataframe tbody tr th:only-of-type {\n",
              "        vertical-align: middle;\n",
              "    }\n",
              "\n",
              "    .dataframe tbody tr th {\n",
              "        vertical-align: top;\n",
              "    }\n",
              "\n",
              "    .dataframe thead th {\n",
              "        text-align: right;\n",
              "    }\n",
              "</style>\n",
              "<table border=\"1\" class=\"dataframe\">\n",
              "  <thead>\n",
              "    <tr style=\"text-align: right;\">\n",
              "      <th></th>\n",
              "      <th>FechaPedido</th>\n",
              "      <th>IdCliente</th>\n",
              "      <th>NombreVendedor</th>\n",
              "      <th>NumPaquetesTradicional</th>\n",
              "      <th>NumPaquetesPicantes</th>\n",
              "    </tr>\n",
              "  </thead>\n",
              "  <tbody>\n",
              "    <tr>\n",
              "      <th>0</th>\n",
              "      <td>2020-05-30</td>\n",
              "      <td>C0215</td>\n",
              "      <td>Internos</td>\n",
              "      <td>1.0</td>\n",
              "      <td>0</td>\n",
              "    </tr>\n",
              "    <tr>\n",
              "      <th>1</th>\n",
              "      <td>2020-05-30</td>\n",
              "      <td>C0249</td>\n",
              "      <td>Internos</td>\n",
              "      <td>3.0</td>\n",
              "      <td>0</td>\n",
              "    </tr>\n",
              "    <tr>\n",
              "      <th>2</th>\n",
              "      <td>2020-05-30</td>\n",
              "      <td>C0167</td>\n",
              "      <td>Eliana</td>\n",
              "      <td>0.0</td>\n",
              "      <td>0</td>\n",
              "    </tr>\n",
              "    <tr>\n",
              "      <th>3</th>\n",
              "      <td>2020-05-30</td>\n",
              "      <td>C0184</td>\n",
              "      <td>Internos</td>\n",
              "      <td>5.0</td>\n",
              "      <td>0</td>\n",
              "    </tr>\n",
              "    <tr>\n",
              "      <th>4</th>\n",
              "      <td>2020-05-30</td>\n",
              "      <td>C0298</td>\n",
              "      <td>Internos</td>\n",
              "      <td>2.0</td>\n",
              "      <td>0</td>\n",
              "    </tr>\n",
              "  </tbody>\n",
              "</table>\n",
              "</div>"
            ],
            "text/plain": [
              "  FechaPedido IdCliente  ... NumPaquetesTradicional  NumPaquetesPicantes\n",
              "0  2020-05-30     C0215  ...                    1.0                    0\n",
              "1  2020-05-30     C0249  ...                    3.0                    0\n",
              "2  2020-05-30     C0167  ...                    0.0                    0\n",
              "3  2020-05-30     C0184  ...                    5.0                    0\n",
              "4  2020-05-30     C0298  ...                    2.0                    0\n",
              "\n",
              "[5 rows x 5 columns]"
            ]
          },
          "metadata": {
            "tags": []
          },
          "execution_count": 20
        }
      ]
    },
    {
      "cell_type": "code",
      "metadata": {
        "colab": {
          "base_uri": "https://localhost:8080/"
        },
        "id": "CYrBCWfcrcPF",
        "outputId": "3a1feffe-ec38-4c51-a224-a994c637a9ea"
      },
      "source": [
        "(newDf[newDf.FechaPedido > pd.to_datetime('2021-01-16')].groupby('FechaPedido').sum()).plot.bar(figsize=(20, 4));"
      ],
      "execution_count": null,
      "outputs": [
        {
          "output_type": "display_data",
          "data": {
            "image/png": "[encoded data removed]",
            "text/plain": [
              "<Figure size 1440x288 with 1 Axes>"
            ]
          },
          "metadata": {
            "tags": [],
            "needs_background": "light"
          }
        }
      ]
    },
    {
      "cell_type": "code",
      "metadata": {
        "id": "LfQmw_IDnquK"
      },
      "source": [
        ""
      ],
      "execution_count": null,
      "outputs": []
    },
    {
      "cell_type": "markdown",
      "metadata": {
        "id": "1UdhqHJ2sLyU"
      },
      "source": [
        "# Analítica: grupos compra en el mes"
      ]
    },
    {
      "cell_type": "code",
      "metadata": {
        "colab": {
          "base_uri": "https://localhost:8080/",
          "height": 498
        },
        "id": "tdVau7vO0enG",
        "outputId": "0d70ede1-24de-45cd-8dd2-c955c2c195aa"
      },
      "source": [
        "df = pedidos[['FechaPedido', 'IdCliente']]\n",
        "df.FechaPedido = pd.to_datetime(df.FechaPedido, dayfirst=True).dt.date #, dayfirst=True\n",
        "df['day'] = pd.DatetimeIndex(df['FechaPedido']).day\n",
        "#df['group'] = df.day.apply(lambda x: 'A' if x < 10 else 'B' if 10 <= x < 20 else 'C')\n",
        "df['group'] = df.day.apply(lambda x: 'A' if x < 7 else 'B' if x <= 14 else 'C' if x <= 21 else 'D')\n",
        "df = df.drop(columns=['FechaPedido', 'day'])\n",
        "df = df.dropna()\n",
        "df.head()"
      ],
      "execution_count": null,
      "outputs": [
        {
          "output_type": "stream",
          "text": [
            "/usr/local/lib/python3.7/dist-packages/pandas/core/generic.py:5170: SettingWithCopyWarning: \n",
            "A value is trying to be set on a copy of a slice from a DataFrame.\n",
            "Try using .loc[row_indexer,col_indexer] = value instead\n",
            "\n",
            "See the caveats in the documentation: https://pandas.pydata.org/pandas-docs/stable/user_guide/indexing.html#returning-a-view-versus-a-copy\n",
            "  self[name] = value\n",
            "/usr/local/lib/python3.7/dist-packages/ipykernel_launcher.py:3: SettingWithCopyWarning: \n",
            "A value is trying to be set on a copy of a slice from a DataFrame.\n",
            "Try using .loc[row_indexer,col_indexer] = value instead\n",
            "\n",
            "See the caveats in the documentation: https://pandas.pydata.org/pandas-docs/stable/user_guide/indexing.html#returning-a-view-versus-a-copy\n",
            "  This is separate from the ipykernel package so we can avoid doing imports until\n",
            "/usr/local/lib/python3.7/dist-packages/ipykernel_launcher.py:5: SettingWithCopyWarning: \n",
            "A value is trying to be set on a copy of a slice from a DataFrame.\n",
            "Try using .loc[row_indexer,col_indexer] = value instead\n",
            "\n",
            "See the caveats in the documentation: https://pandas.pydata.org/pandas-docs/stable/user_guide/indexing.html#returning-a-view-versus-a-copy\n",
            "  \"\"\"\n"
          ],
          "name": "stderr"
        },
        {
          "output_type": "execute_result",
          "data": {
            "text/html": [
              "<div>\n",
              "<style scoped>\n",
              "    .dataframe tbody tr th:only-of-type {\n",
              "        vertical-align: middle;\n",
              "    }\n",
              "\n",
              "    .dataframe tbody tr th {\n",
              "        vertical-align: top;\n",
              "    }\n",
              "\n",
              "    .dataframe thead th {\n",
              "        text-align: right;\n",
              "    }\n",
              "</style>\n",
              "<table border=\"1\" class=\"dataframe\">\n",
              "  <thead>\n",
              "    <tr style=\"text-align: right;\">\n",
              "      <th></th>\n",
              "      <th>IdCliente</th>\n",
              "      <th>group</th>\n",
              "    </tr>\n",
              "  </thead>\n",
              "  <tbody>\n",
              "    <tr>\n",
              "      <th>0</th>\n",
              "      <td>C0215</td>\n",
              "      <td>D</td>\n",
              "    </tr>\n",
              "    <tr>\n",
              "      <th>1</th>\n",
              "      <td>C0249</td>\n",
              "      <td>D</td>\n",
              "    </tr>\n",
              "    <tr>\n",
              "      <th>2</th>\n",
              "      <td>C0167</td>\n",
              "      <td>D</td>\n",
              "    </tr>\n",
              "    <tr>\n",
              "      <th>3</th>\n",
              "      <td>C0184</td>\n",
              "      <td>D</td>\n",
              "    </tr>\n",
              "    <tr>\n",
              "      <th>4</th>\n",
              "      <td>C0298</td>\n",
              "      <td>D</td>\n",
              "    </tr>\n",
              "  </tbody>\n",
              "</table>\n",
              "</div>"
            ],
            "text/plain": [
              "  IdCliente group\n",
              "0     C0215     D\n",
              "1     C0249     D\n",
              "2     C0167     D\n",
              "3     C0184     D\n",
              "4     C0298     D"
            ]
          },
          "metadata": {
            "tags": []
          },
          "execution_count": 46
        }
      ]
    },
    {
      "cell_type": "code",
      "metadata": {
        "colab": {
          "base_uri": "https://localhost:8080/",
          "height": 225
        },
        "id": "qEB5AzUV4P6M",
        "outputId": "617bf135-bd74-4342-f014-5fe05e587695"
      },
      "source": [
        "fd2 = df.groupby(['IdCliente']).agg(lambda x:x.value_counts().index[0])\n",
        "fd2.head()"
      ],
      "execution_count": null,
      "outputs": [
        {
          "output_type": "execute_result",
          "data": {
            "text/html": [
              "<div>\n",
              "<style scoped>\n",
              "    .dataframe tbody tr th:only-of-type {\n",
              "        vertical-align: middle;\n",
              "    }\n",
              "\n",
              "    .dataframe tbody tr th {\n",
              "        vertical-align: top;\n",
              "    }\n",
              "\n",
              "    .dataframe thead th {\n",
              "        text-align: right;\n",
              "    }\n",
              "</style>\n",
              "<table border=\"1\" class=\"dataframe\">\n",
              "  <thead>\n",
              "    <tr style=\"text-align: right;\">\n",
              "      <th></th>\n",
              "      <th>group</th>\n",
              "    </tr>\n",
              "    <tr>\n",
              "      <th>IdCliente</th>\n",
              "      <th></th>\n",
              "    </tr>\n",
              "  </thead>\n",
              "  <tbody>\n",
              "    <tr>\n",
              "      <th>C0000</th>\n",
              "      <td>B</td>\n",
              "    </tr>\n",
              "    <tr>\n",
              "      <th>C0001</th>\n",
              "      <td>A</td>\n",
              "    </tr>\n",
              "    <tr>\n",
              "      <th>C0002</th>\n",
              "      <td>C</td>\n",
              "    </tr>\n",
              "    <tr>\n",
              "      <th>C0003</th>\n",
              "      <td>A</td>\n",
              "    </tr>\n",
              "    <tr>\n",
              "      <th>C0004</th>\n",
              "      <td>C</td>\n",
              "    </tr>\n",
              "  </tbody>\n",
              "</table>\n",
              "</div>"
            ],
            "text/plain": [
              "          group\n",
              "IdCliente      \n",
              "C0000         B\n",
              "C0001         A\n",
              "C0002         C\n",
              "C0003         A\n",
              "C0004         C"
            ]
          },
          "metadata": {
            "tags": []
          },
          "execution_count": 47
        }
      ]
    },
    {
      "cell_type": "code",
      "metadata": {
        "colab": {
          "base_uri": "https://localhost:8080/",
          "height": 212
        },
        "id": "BJbvlFwU6uYl",
        "outputId": "3be45e37-b740-4afa-9cc6-c98d9f5b6996"
      },
      "source": [
        "result = pd.merge(clientes, fd2, on='IdCliente', how='left')\n",
        "result.head()"
      ],
      "execution_count": null,
      "outputs": [
        {
          "output_type": "execute_result",
          "data": {
            "text/html": [
              "<div>\n",
              "<style scoped>\n",
              "    .dataframe tbody tr th:only-of-type {\n",
              "        vertical-align: middle;\n",
              "    }\n",
              "\n",
              "    .dataframe tbody tr th {\n",
              "        vertical-align: top;\n",
              "    }\n",
              "\n",
              "    .dataframe thead th {\n",
              "        text-align: right;\n",
              "    }\n",
              "</style>\n",
              "<table border=\"1\" class=\"dataframe\">\n",
              "  <thead>\n",
              "    <tr style=\"text-align: right;\">\n",
              "      <th></th>\n",
              "      <th>IdCliente</th>\n",
              "      <th>NombreCliente</th>\n",
              "      <th>DireccionBasica</th>\n",
              "      <th>Direccion2</th>\n",
              "      <th>Barrio</th>\n",
              "      <th>Ciudad</th>\n",
              "      <th>Contacto</th>\n",
              "      <th>IdVendedor</th>\n",
              "      <th>NombreVendedor</th>\n",
              "      <th>EsVendedor</th>\n",
              "      <th>group</th>\n",
              "    </tr>\n",
              "  </thead>\n",
              "  <tbody>\n",
              "    <tr>\n",
              "      <th>0</th>\n",
              "      <td>C0001</td>\n",
              "      <td>Angélica María</td>\n",
              "      <td>Cra. 59 #27-71</td>\n",
              "      <td>apto 1924, urbanización amazónica</td>\n",
              "      <td>Las Cabañas</td>\n",
              "      <td>Bello, Antioquia</td>\n",
              "      <td>3002643511</td>\n",
              "      <td>V008</td>\n",
              "      <td>Aleja</td>\n",
              "      <td>0</td>\n",
              "      <td>A</td>\n",
              "    </tr>\n",
              "    <tr>\n",
              "      <th>1</th>\n",
              "      <td>C0002</td>\n",
              "      <td>José Alejandro Restrepo</td>\n",
              "      <td>Cl. 11c sur #48b-06</td>\n",
              "      <td>Al lado de Eafit</td>\n",
              "      <td>Aguacatala</td>\n",
              "      <td>Medellin, Antioquia</td>\n",
              "      <td>3003361327</td>\n",
              "      <td>V008</td>\n",
              "      <td>Aleja</td>\n",
              "      <td>0</td>\n",
              "      <td>C</td>\n",
              "    </tr>\n",
              "    <tr>\n",
              "      <th>2</th>\n",
              "      <td>C0003</td>\n",
              "      <td>Yony Morales</td>\n",
              "      <td>Cl. 105 64E - 33</td>\n",
              "      <td>NaN</td>\n",
              "      <td>Gratamira sector zenu</td>\n",
              "      <td>Medellin, Antioquia</td>\n",
              "      <td>3012896731</td>\n",
              "      <td>V008</td>\n",
              "      <td>Aleja</td>\n",
              "      <td>0</td>\n",
              "      <td>A</td>\n",
              "    </tr>\n",
              "    <tr>\n",
              "      <th>3</th>\n",
              "      <td>C0004</td>\n",
              "      <td>Alejandra Martinez</td>\n",
              "      <td>Cl. 63 #80a-40</td>\n",
              "      <td>Edificio crucero de la 80, apto 405-torre 2</td>\n",
              "      <td>Robledo jordan</td>\n",
              "      <td>Medellin, Antioquia</td>\n",
              "      <td>3015704173</td>\n",
              "      <td>V008</td>\n",
              "      <td>Aleja</td>\n",
              "      <td>0</td>\n",
              "      <td>C</td>\n",
              "    </tr>\n",
              "    <tr>\n",
              "      <th>4</th>\n",
              "      <td>C0005</td>\n",
              "      <td>Alejandra Gañán</td>\n",
              "      <td>Cl. 64g #92c-19</td>\n",
              "      <td>unidad balcón del valle</td>\n",
              "      <td>Robledo la campiña</td>\n",
              "      <td>Medellin, Antioquia</td>\n",
              "      <td>3053445941</td>\n",
              "      <td>V008</td>\n",
              "      <td>Aleja</td>\n",
              "      <td>0</td>\n",
              "      <td>C</td>\n",
              "    </tr>\n",
              "  </tbody>\n",
              "</table>\n",
              "</div>"
            ],
            "text/plain": [
              "  IdCliente            NombreCliente  ... EsVendedor group\n",
              "0     C0001           Angélica María  ...          0     A\n",
              "1     C0002  José Alejandro Restrepo  ...          0     C\n",
              "2     C0003             Yony Morales  ...          0     A\n",
              "3     C0004       Alejandra Martinez  ...          0     C\n",
              "4     C0005          Alejandra Gañán  ...          0     C\n",
              "\n",
              "[5 rows x 11 columns]"
            ]
          },
          "metadata": {
            "tags": []
          },
          "execution_count": 48
        }
      ]
    },
    {
      "cell_type": "code",
      "metadata": {
        "colab": {
          "base_uri": "https://localhost:8080/",
          "height": 242
        },
        "id": "XcfP_lGR8LO7",
        "outputId": "52d475fa-581c-433f-ab32-c41a1b8baf02"
      },
      "source": [
        "result2 = result[(result.IdVendedor == 'V003') \n",
        "\t\t\t\t\t\t\t& (result.group == 'C')]\n",
        "print(result2.shape)\n",
        "result2.sample(n=6)"
      ],
      "execution_count": null,
      "outputs": [
        {
          "output_type": "stream",
          "text": [
            "(12, 11)\n"
          ],
          "name": "stdout"
        },
        {
          "output_type": "execute_result",
          "data": {
            "text/html": [
              "<div>\n",
              "<style scoped>\n",
              "    .dataframe tbody tr th:only-of-type {\n",
              "        vertical-align: middle;\n",
              "    }\n",
              "\n",
              "    .dataframe tbody tr th {\n",
              "        vertical-align: top;\n",
              "    }\n",
              "\n",
              "    .dataframe thead th {\n",
              "        text-align: right;\n",
              "    }\n",
              "</style>\n",
              "<table border=\"1\" class=\"dataframe\">\n",
              "  <thead>\n",
              "    <tr style=\"text-align: right;\">\n",
              "      <th></th>\n",
              "      <th>IdCliente</th>\n",
              "      <th>NombreCliente</th>\n",
              "      <th>DireccionBasica</th>\n",
              "      <th>Direccion2</th>\n",
              "      <th>Barrio</th>\n",
              "      <th>Ciudad</th>\n",
              "      <th>Contacto</th>\n",
              "      <th>IdVendedor</th>\n",
              "      <th>NombreVendedor</th>\n",
              "      <th>EsVendedor</th>\n",
              "      <th>group</th>\n",
              "    </tr>\n",
              "  </thead>\n",
              "  <tbody>\n",
              "    <tr>\n",
              "      <th>546</th>\n",
              "      <td>C0547</td>\n",
              "      <td>Marta Estrada</td>\n",
              "      <td>Cra. 48a #106-64</td>\n",
              "      <td>primer piso</td>\n",
              "      <td>Andalucia</td>\n",
              "      <td>Medellin, Antioquia</td>\n",
              "      <td>3114094502</td>\n",
              "      <td>V003</td>\n",
              "      <td>Majo</td>\n",
              "      <td>0</td>\n",
              "      <td>C</td>\n",
              "    </tr>\n",
              "    <tr>\n",
              "      <th>547</th>\n",
              "      <td>C0548</td>\n",
              "      <td>Maru</td>\n",
              "      <td>Tv. 74 # cq. 1-44</td>\n",
              "      <td>NaN</td>\n",
              "      <td>Laureles</td>\n",
              "      <td>Medellin, Antioquia</td>\n",
              "      <td>3012513122</td>\n",
              "      <td>V003</td>\n",
              "      <td>Majo</td>\n",
              "      <td>0</td>\n",
              "      <td>C</td>\n",
              "    </tr>\n",
              "    <tr>\n",
              "      <th>511</th>\n",
              "      <td>C0512</td>\n",
              "      <td>Diana naranjo</td>\n",
              "      <td>Cra. 73b #75-117</td>\n",
              "      <td>tienda</td>\n",
              "      <td>Pilarica</td>\n",
              "      <td>Medellin, Antioquia</td>\n",
              "      <td>3207337760</td>\n",
              "      <td>V003</td>\n",
              "      <td>Majo</td>\n",
              "      <td>0</td>\n",
              "      <td>C</td>\n",
              "    </tr>\n",
              "    <tr>\n",
              "      <th>549</th>\n",
              "      <td>C0550</td>\n",
              "      <td>Miguel londoño</td>\n",
              "      <td>Cra. 30 #49-41</td>\n",
              "      <td>buenos aires(un edificio por toda la estacion ...</td>\n",
              "      <td>buenos aires</td>\n",
              "      <td>Medellin, Antioquia</td>\n",
              "      <td>3045784378</td>\n",
              "      <td>V003</td>\n",
              "      <td>Majo</td>\n",
              "      <td>0</td>\n",
              "      <td>C</td>\n",
              "    </tr>\n",
              "    <tr>\n",
              "      <th>654</th>\n",
              "      <td>C0655</td>\n",
              "      <td>Jairo Villa</td>\n",
              "      <td>Cra. 73a #75a-17</td>\n",
              "      <td>NaN</td>\n",
              "      <td>Pilarica</td>\n",
              "      <td>Medellin, Antioquia</td>\n",
              "      <td>3122475822</td>\n",
              "      <td>V003</td>\n",
              "      <td>Majo</td>\n",
              "      <td>0</td>\n",
              "      <td>C</td>\n",
              "    </tr>\n",
              "    <tr>\n",
              "      <th>518</th>\n",
              "      <td>C0519</td>\n",
              "      <td>Estela</td>\n",
              "      <td>Cl. 23 #71a-29</td>\n",
              "      <td>casa)</td>\n",
              "      <td>Belen</td>\n",
              "      <td>Medellin, Antioquia</td>\n",
              "      <td>3206678063</td>\n",
              "      <td>V003</td>\n",
              "      <td>Majo</td>\n",
              "      <td>0</td>\n",
              "      <td>C</td>\n",
              "    </tr>\n",
              "  </tbody>\n",
              "</table>\n",
              "</div>"
            ],
            "text/plain": [
              "    IdCliente   NombreCliente  ... EsVendedor group\n",
              "546     C0547   Marta Estrada  ...          0     C\n",
              "547     C0548            Maru  ...          0     C\n",
              "511     C0512   Diana naranjo  ...          0     C\n",
              "549     C0550  Miguel londoño  ...          0     C\n",
              "654     C0655     Jairo Villa  ...          0     C\n",
              "518     C0519          Estela  ...          0     C\n",
              "\n",
              "[6 rows x 11 columns]"
            ]
          },
          "metadata": {
            "tags": []
          },
          "execution_count": 49
        }
      ]
    },
    {
      "cell_type": "code",
      "metadata": {
        "id": "rBJ4R50j_8FO",
        "colab": {
          "base_uri": "https://localhost:8080/",
          "height": 212
        },
        "outputId": "3c07cc73-467a-4525-ecff-f4efeee2bc8c"
      },
      "source": [
        "result2 = result[(result.IdVendedor == 'V001') \n",
        "\t\t\t\t\t\t\t& (result.group == 'C')]\n",
        "print(result2.shape)\n",
        "result2[['NombreCliente', 'Barrio',  'Contacto', 'NombreVendedor']].sample(n=5)"
      ],
      "execution_count": null,
      "outputs": [
        {
          "output_type": "stream",
          "text": [
            "(34, 11)\n"
          ],
          "name": "stdout"
        },
        {
          "output_type": "execute_result",
          "data": {
            "text/html": [
              "<div>\n",
              "<style scoped>\n",
              "    .dataframe tbody tr th:only-of-type {\n",
              "        vertical-align: middle;\n",
              "    }\n",
              "\n",
              "    .dataframe tbody tr th {\n",
              "        vertical-align: top;\n",
              "    }\n",
              "\n",
              "    .dataframe thead th {\n",
              "        text-align: right;\n",
              "    }\n",
              "</style>\n",
              "<table border=\"1\" class=\"dataframe\">\n",
              "  <thead>\n",
              "    <tr style=\"text-align: right;\">\n",
              "      <th></th>\n",
              "      <th>NombreCliente</th>\n",
              "      <th>Barrio</th>\n",
              "      <th>Contacto</th>\n",
              "      <th>NombreVendedor</th>\n",
              "    </tr>\n",
              "  </thead>\n",
              "  <tbody>\n",
              "    <tr>\n",
              "      <th>273</th>\n",
              "      <td>Melisa - Amigo de Augusto</td>\n",
              "      <td>envigado Antioquia</td>\n",
              "      <td>numeroNO</td>\n",
              "      <td>Internos</td>\n",
              "    </tr>\n",
              "    <tr>\n",
              "      <th>227</th>\n",
              "      <td>Hugo Machado</td>\n",
              "      <td>El velódromo</td>\n",
              "      <td>3214605201</td>\n",
              "      <td>Internos</td>\n",
              "    </tr>\n",
              "    <tr>\n",
              "      <th>262</th>\n",
              "      <td>Lina María González</td>\n",
              "      <td>Calasanz</td>\n",
              "      <td>3113043516</td>\n",
              "      <td>Internos</td>\n",
              "    </tr>\n",
              "    <tr>\n",
              "      <th>257</th>\n",
              "      <td>Letty nury blandón</td>\n",
              "      <td>la floresta</td>\n",
              "      <td>3006520526</td>\n",
              "      <td>Internos</td>\n",
              "    </tr>\n",
              "    <tr>\n",
              "      <th>218</th>\n",
              "      <td>Fernanda Cruzada</td>\n",
              "      <td>Castilla</td>\n",
              "      <td>numeroNO</td>\n",
              "      <td>Internos</td>\n",
              "    </tr>\n",
              "  </tbody>\n",
              "</table>\n",
              "</div>"
            ],
            "text/plain": [
              "                 NombreCliente              Barrio    Contacto NombreVendedor\n",
              "273  Melisa - Amigo de Augusto  envigado Antioquia    numeroNO       Internos\n",
              "227               Hugo Machado        El velódromo  3214605201       Internos\n",
              "262        Lina María González            Calasanz  3113043516       Internos\n",
              "257         Letty nury blandón         la floresta  3006520526       Internos\n",
              "218           Fernanda Cruzada            Castilla    numeroNO       Internos"
            ]
          },
          "metadata": {
            "tags": []
          },
          "execution_count": 90
        }
      ]
    },
    {
      "cell_type": "markdown",
      "metadata": {
        "id": "fXM48nlB_8QU"
      },
      "source": [
        "# Analítica: compras antiguas"
      ]
    },
    {
      "cell_type": "code",
      "metadata": {
        "colab": {
          "base_uri": "https://localhost:8080/",
          "height": 397
        },
        "id": "spnI_2rsAH2k",
        "outputId": "0722f7cf-1b4f-4822-d2b7-44a8de205a4d"
      },
      "source": [
        "df = pedidos[['FechaPedido', 'IdCliente']]\n",
        "df.FechaPedido = pd.to_datetime(df.FechaPedido, dayfirst=True).dt.date #, dayfirst=True\n",
        "df['group'] = df.FechaPedido.apply(lambda x: 'A' if x < pd.to_datetime('2020-10-01') else 'B')\n",
        "df = df.drop(columns=['FechaPedido'])\n",
        "df = df.dropna()\n",
        "df.tail()"
      ],
      "execution_count": null,
      "outputs": [
        {
          "output_type": "stream",
          "text": [
            "/usr/local/lib/python3.7/dist-packages/pandas/core/generic.py:5170: SettingWithCopyWarning: \n",
            "A value is trying to be set on a copy of a slice from a DataFrame.\n",
            "Try using .loc[row_indexer,col_indexer] = value instead\n",
            "\n",
            "See the caveats in the documentation: https://pandas.pydata.org/pandas-docs/stable/user_guide/indexing.html#returning-a-view-versus-a-copy\n",
            "  self[name] = value\n",
            "/usr/local/lib/python3.7/dist-packages/ipykernel_launcher.py:3: SettingWithCopyWarning: \n",
            "A value is trying to be set on a copy of a slice from a DataFrame.\n",
            "Try using .loc[row_indexer,col_indexer] = value instead\n",
            "\n",
            "See the caveats in the documentation: https://pandas.pydata.org/pandas-docs/stable/user_guide/indexing.html#returning-a-view-versus-a-copy\n",
            "  This is separate from the ipykernel package so we can avoid doing imports until\n"
          ],
          "name": "stderr"
        },
        {
          "output_type": "execute_result",
          "data": {
            "text/html": [
              "<div>\n",
              "<style scoped>\n",
              "    .dataframe tbody tr th:only-of-type {\n",
              "        vertical-align: middle;\n",
              "    }\n",
              "\n",
              "    .dataframe tbody tr th {\n",
              "        vertical-align: top;\n",
              "    }\n",
              "\n",
              "    .dataframe thead th {\n",
              "        text-align: right;\n",
              "    }\n",
              "</style>\n",
              "<table border=\"1\" class=\"dataframe\">\n",
              "  <thead>\n",
              "    <tr style=\"text-align: right;\">\n",
              "      <th></th>\n",
              "      <th>IdCliente</th>\n",
              "      <th>group</th>\n",
              "    </tr>\n",
              "  </thead>\n",
              "  <tbody>\n",
              "    <tr>\n",
              "      <th>2258</th>\n",
              "      <td>C0656</td>\n",
              "      <td>B</td>\n",
              "    </tr>\n",
              "    <tr>\n",
              "      <th>2259</th>\n",
              "      <td>C0541</td>\n",
              "      <td>B</td>\n",
              "    </tr>\n",
              "    <tr>\n",
              "      <th>2260</th>\n",
              "      <td>C0085</td>\n",
              "      <td>B</td>\n",
              "    </tr>\n",
              "    <tr>\n",
              "      <th>2261</th>\n",
              "      <td>C0139</td>\n",
              "      <td>B</td>\n",
              "    </tr>\n",
              "    <tr>\n",
              "      <th>2262</th>\n",
              "      <td>C0152</td>\n",
              "      <td>B</td>\n",
              "    </tr>\n",
              "  </tbody>\n",
              "</table>\n",
              "</div>"
            ],
            "text/plain": [
              "     IdCliente group\n",
              "2258     C0656     B\n",
              "2259     C0541     B\n",
              "2260     C0085     B\n",
              "2261     C0139     B\n",
              "2262     C0152     B"
            ]
          },
          "metadata": {
            "tags": []
          },
          "execution_count": 40
        }
      ]
    },
    {
      "cell_type": "code",
      "metadata": {
        "colab": {
          "base_uri": "https://localhost:8080/",
          "height": 225
        },
        "id": "vRZVPfdmApj1",
        "outputId": "37277044-d398-4a4f-b5be-264e39d99009"
      },
      "source": [
        "fd2 = df.groupby(['IdCliente']).agg(lambda x:x.value_counts().index[0])\n",
        "fd2.head()"
      ],
      "execution_count": null,
      "outputs": [
        {
          "output_type": "execute_result",
          "data": {
            "text/html": [
              "<div>\n",
              "<style scoped>\n",
              "    .dataframe tbody tr th:only-of-type {\n",
              "        vertical-align: middle;\n",
              "    }\n",
              "\n",
              "    .dataframe tbody tr th {\n",
              "        vertical-align: top;\n",
              "    }\n",
              "\n",
              "    .dataframe thead th {\n",
              "        text-align: right;\n",
              "    }\n",
              "</style>\n",
              "<table border=\"1\" class=\"dataframe\">\n",
              "  <thead>\n",
              "    <tr style=\"text-align: right;\">\n",
              "      <th></th>\n",
              "      <th>group</th>\n",
              "    </tr>\n",
              "    <tr>\n",
              "      <th>IdCliente</th>\n",
              "      <th></th>\n",
              "    </tr>\n",
              "  </thead>\n",
              "  <tbody>\n",
              "    <tr>\n",
              "      <th>C0000</th>\n",
              "      <td>B</td>\n",
              "    </tr>\n",
              "    <tr>\n",
              "      <th>C0001</th>\n",
              "      <td>B</td>\n",
              "    </tr>\n",
              "    <tr>\n",
              "      <th>C0002</th>\n",
              "      <td>A</td>\n",
              "    </tr>\n",
              "    <tr>\n",
              "      <th>C0003</th>\n",
              "      <td>A</td>\n",
              "    </tr>\n",
              "    <tr>\n",
              "      <th>C0004</th>\n",
              "      <td>A</td>\n",
              "    </tr>\n",
              "  </tbody>\n",
              "</table>\n",
              "</div>"
            ],
            "text/plain": [
              "          group\n",
              "IdCliente      \n",
              "C0000         B\n",
              "C0001         B\n",
              "C0002         A\n",
              "C0003         A\n",
              "C0004         A"
            ]
          },
          "metadata": {
            "tags": []
          },
          "execution_count": 27
        }
      ]
    },
    {
      "cell_type": "code",
      "metadata": {
        "colab": {
          "base_uri": "https://localhost:8080/",
          "height": 212
        },
        "id": "Y9X44RoAAt59",
        "outputId": "5eea3011-6f85-4aa0-ee50-eee6858c5c60"
      },
      "source": [
        "result = pd.merge(clientes, fd2, on='IdCliente', how='left')\n",
        "result.head()"
      ],
      "execution_count": null,
      "outputs": [
        {
          "output_type": "execute_result",
          "data": {
            "text/html": [
              "<div>\n",
              "<style scoped>\n",
              "    .dataframe tbody tr th:only-of-type {\n",
              "        vertical-align: middle;\n",
              "    }\n",
              "\n",
              "    .dataframe tbody tr th {\n",
              "        vertical-align: top;\n",
              "    }\n",
              "\n",
              "    .dataframe thead th {\n",
              "        text-align: right;\n",
              "    }\n",
              "</style>\n",
              "<table border=\"1\" class=\"dataframe\">\n",
              "  <thead>\n",
              "    <tr style=\"text-align: right;\">\n",
              "      <th></th>\n",
              "      <th>IdCliente</th>\n",
              "      <th>NombreCliente</th>\n",
              "      <th>DireccionBasica</th>\n",
              "      <th>Direccion2</th>\n",
              "      <th>Barrio</th>\n",
              "      <th>Ciudad</th>\n",
              "      <th>Contacto</th>\n",
              "      <th>IdVendedor</th>\n",
              "      <th>NombreVendedor</th>\n",
              "      <th>EsVendedor</th>\n",
              "      <th>group</th>\n",
              "    </tr>\n",
              "  </thead>\n",
              "  <tbody>\n",
              "    <tr>\n",
              "      <th>0</th>\n",
              "      <td>C0001</td>\n",
              "      <td>Angélica María</td>\n",
              "      <td>Cra. 59 #27-71</td>\n",
              "      <td>apto 1924, urbanización amazónica</td>\n",
              "      <td>Las Cabañas</td>\n",
              "      <td>Bello, Antioquia</td>\n",
              "      <td>3002643511</td>\n",
              "      <td>V008</td>\n",
              "      <td>Aleja</td>\n",
              "      <td>0</td>\n",
              "      <td>B</td>\n",
              "    </tr>\n",
              "    <tr>\n",
              "      <th>1</th>\n",
              "      <td>C0002</td>\n",
              "      <td>José Alejandro Restrepo</td>\n",
              "      <td>Cl. 11c sur #48b-06</td>\n",
              "      <td>Al lado de Eafit</td>\n",
              "      <td>Aguacatala</td>\n",
              "      <td>Medellin, Antioquia</td>\n",
              "      <td>3003361327</td>\n",
              "      <td>V008</td>\n",
              "      <td>Aleja</td>\n",
              "      <td>0</td>\n",
              "      <td>A</td>\n",
              "    </tr>\n",
              "    <tr>\n",
              "      <th>2</th>\n",
              "      <td>C0003</td>\n",
              "      <td>Yony Morales</td>\n",
              "      <td>Cl. 105 64E - 33</td>\n",
              "      <td>NaN</td>\n",
              "      <td>Gratamira sector zenu</td>\n",
              "      <td>Medellin, Antioquia</td>\n",
              "      <td>3012896731</td>\n",
              "      <td>V008</td>\n",
              "      <td>Aleja</td>\n",
              "      <td>0</td>\n",
              "      <td>A</td>\n",
              "    </tr>\n",
              "    <tr>\n",
              "      <th>3</th>\n",
              "      <td>C0004</td>\n",
              "      <td>Alejandra Martinez</td>\n",
              "      <td>Cl. 63 #80a-40</td>\n",
              "      <td>Edificio crucero de la 80, apto 405-torre 2</td>\n",
              "      <td>Robledo jordan</td>\n",
              "      <td>Medellin, Antioquia</td>\n",
              "      <td>3015704173</td>\n",
              "      <td>V008</td>\n",
              "      <td>Aleja</td>\n",
              "      <td>0</td>\n",
              "      <td>A</td>\n",
              "    </tr>\n",
              "    <tr>\n",
              "      <th>4</th>\n",
              "      <td>C0005</td>\n",
              "      <td>Alejandra Gañán</td>\n",
              "      <td>Cl. 64g #92c-19</td>\n",
              "      <td>unidad balcón del valle</td>\n",
              "      <td>Robledo la campiña</td>\n",
              "      <td>Medellin, Antioquia</td>\n",
              "      <td>3053445941</td>\n",
              "      <td>V008</td>\n",
              "      <td>Aleja</td>\n",
              "      <td>0</td>\n",
              "      <td>A</td>\n",
              "    </tr>\n",
              "  </tbody>\n",
              "</table>\n",
              "</div>"
            ],
            "text/plain": [
              "  IdCliente            NombreCliente  ... EsVendedor group\n",
              "0     C0001           Angélica María  ...          0     B\n",
              "1     C0002  José Alejandro Restrepo  ...          0     A\n",
              "2     C0003             Yony Morales  ...          0     A\n",
              "3     C0004       Alejandra Martinez  ...          0     A\n",
              "4     C0005          Alejandra Gañán  ...          0     A\n",
              "\n",
              "[5 rows x 11 columns]"
            ]
          },
          "metadata": {
            "tags": []
          },
          "execution_count": 28
        }
      ]
    },
    {
      "cell_type": "code",
      "metadata": {
        "colab": {
          "base_uri": "https://localhost:8080/",
          "height": 212
        },
        "id": "ntSgPJvkAw-M",
        "outputId": "7328a5f9-9a3d-46e3-db46-afc51d2ba1fb"
      },
      "source": [
        "result2 = result[(result.IdVendedor == 'V016') \n",
        "\t\t\t\t\t\t\t& (result.group == 'A')]\n",
        "print(result2.shape)\n",
        "result2[['NombreCliente', 'Barrio',  'Contacto', 'NombreVendedor']]# .sample(n=1)"
      ],
      "execution_count": null,
      "outputs": [
        {
          "output_type": "stream",
          "text": [
            "(5, 11)\n"
          ],
          "name": "stdout"
        },
        {
          "output_type": "execute_result",
          "data": {
            "text/html": [
              "<div>\n",
              "<style scoped>\n",
              "    .dataframe tbody tr th:only-of-type {\n",
              "        vertical-align: middle;\n",
              "    }\n",
              "\n",
              "    .dataframe tbody tr th {\n",
              "        vertical-align: top;\n",
              "    }\n",
              "\n",
              "    .dataframe thead th {\n",
              "        text-align: right;\n",
              "    }\n",
              "</style>\n",
              "<table border=\"1\" class=\"dataframe\">\n",
              "  <thead>\n",
              "    <tr style=\"text-align: right;\">\n",
              "      <th></th>\n",
              "      <th>NombreCliente</th>\n",
              "      <th>Barrio</th>\n",
              "      <th>Contacto</th>\n",
              "      <th>NombreVendedor</th>\n",
              "    </tr>\n",
              "  </thead>\n",
              "  <tbody>\n",
              "    <tr>\n",
              "      <th>114</th>\n",
              "      <td>David Arango</td>\n",
              "      <td>El Playon</td>\n",
              "      <td>3122942425</td>\n",
              "      <td>David</td>\n",
              "    </tr>\n",
              "    <tr>\n",
              "      <th>115</th>\n",
              "      <td>Jefferson Maldonado</td>\n",
              "      <td>madera fina</td>\n",
              "      <td>3173698392</td>\n",
              "      <td>David</td>\n",
              "    </tr>\n",
              "    <tr>\n",
              "      <th>117</th>\n",
              "      <td>Maria villa Perez</td>\n",
              "      <td>Niquia quitasol</td>\n",
              "      <td>3137051504</td>\n",
              "      <td>David</td>\n",
              "    </tr>\n",
              "    <tr>\n",
              "      <th>119</th>\n",
              "      <td>Oneida Muñoz</td>\n",
              "      <td>San Pío Itagui</td>\n",
              "      <td>3128929495</td>\n",
              "      <td>David</td>\n",
              "    </tr>\n",
              "    <tr>\n",
              "      <th>121</th>\n",
              "      <td>Sandra Arango</td>\n",
              "      <td>La mina Envigado</td>\n",
              "      <td>3003463662</td>\n",
              "      <td>David</td>\n",
              "    </tr>\n",
              "  </tbody>\n",
              "</table>\n",
              "</div>"
            ],
            "text/plain": [
              "           NombreCliente            Barrio    Contacto NombreVendedor\n",
              "114         David Arango         El Playon  3122942425          David\n",
              "115  Jefferson Maldonado       madera fina  3173698392          David\n",
              "117    Maria villa Perez   Niquia quitasol  3137051504          David\n",
              "119         Oneida Muñoz    San Pío Itagui  3128929495          David\n",
              "121        Sandra Arango  La mina Envigado  3003463662          David"
            ]
          },
          "metadata": {
            "tags": []
          },
          "execution_count": 29
        }
      ]
    }
  ]
}