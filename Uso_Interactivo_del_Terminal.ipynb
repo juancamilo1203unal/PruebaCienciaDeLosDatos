{
  "nbformat": 4,
  "nbformat_minor": 0,
  "metadata": {
    "colab": {
      "name": "Uso Interactivo del Terminal.ipynb",
      "provenance": [],
      "collapsed_sections": [],
      "include_colab_link": true
    },
    "kernelspec": {
      "name": "python3",
      "display_name": "Python 3"
    }
  },
  "cells": [
    {
      "cell_type": "markdown",
      "metadata": {
        "id": "view-in-github",
        "colab_type": "text"
      },
      "source": [
        "<a href=\"https://colab.research.google.com/github/juancamilo1203unal/PruebaCienciaDeLosDatos/blob/master/Uso_Interactivo_del_Terminal.ipynb\" target=\"_parent\"><img src=\"https://colab.research.google.com/assets/colab-badge.svg\" alt=\"Open In Colab\"/></a>"
      ]
    },
    {
      "cell_type": "code",
      "metadata": {
        "id": "Q7v5ruvEzZDQ",
        "colab_type": "code",
        "outputId": "5304c78d-8de7-4725-ac14-561c8e33d696",
        "colab": {
          "base_uri": "https://localhost:8080/",
          "height": 34
        }
      },
      "source": [
        "%%"
      ],
      "execution_count": 0,
      "outputs": [
        {
          "output_type": "stream",
          "text": [
            "UsageError: Cell magic `%%` not found.\n"
          ],
          "name": "stderr"
        }
      ]
    },
    {
      "cell_type": "code",
      "metadata": {
        "id": "Krf5EBeZvykV",
        "colab_type": "code",
        "outputId": "4b037d01-d3fb-464f-dc2f-ba212ce9de76",
        "colab": {
          "base_uri": "https://localhost:8080/",
          "height": 84
        }
      },
      "source": [
        "!echo hola   mundo\n",
        "!echo 'Hola      mundo'\n",
        "!echo \"Hola      mundo\"\n",
        "!echo 'line 1/line 2'"
      ],
      "execution_count": 0,
      "outputs": [
        {
          "output_type": "stream",
          "text": [
            "hola mundo\n",
            "Hola      mundo\n",
            "Hola      mundo\n",
            "line 1/line 2\n"
          ],
          "name": "stdout"
        }
      ]
    },
    {
      "cell_type": "code",
      "metadata": {
        "id": "rtHMPmWpxHwb",
        "colab_type": "code",
        "outputId": "fe64e132-3318-4ab6-9d2c-4b4ec450528e",
        "colab": {
          "base_uri": "https://localhost:8080/",
          "height": 34
        }
      },
      "source": [
        "!echo linea 1 \\\n",
        "linea 2 \\\n",
        "linea 3"
      ],
      "execution_count": 0,
      "outputs": [
        {
          "output_type": "stream",
          "text": [
            "linea 1linea 2linea 3\n"
          ],
          "name": "stdout"
        }
      ]
    },
    {
      "cell_type": "code",
      "metadata": {
        "id": "vAiZJG2Oxegx",
        "colab_type": "code",
        "outputId": "0915437f-32e2-4872-e5c6-d942c1a279fd",
        "colab": {
          "base_uri": "https://localhost:8080/",
          "height": 67
        }
      },
      "source": [
        "!echo -e \"linea 1\\nlinea 2\\nlinea 3\""
      ],
      "execution_count": 0,
      "outputs": [
        {
          "output_type": "stream",
          "text": [
            "linea 1\n",
            "linea 2\n",
            "linea 3\n"
          ],
          "name": "stdout"
        }
      ]
    },
    {
      "cell_type": "code",
      "metadata": {
        "id": "0Z7Wj1sIwScd",
        "colab_type": "code",
        "outputId": "77736a25-799e-443a-e292-c7a84f171858",
        "colab": {
          "base_uri": "https://localhost:8080/",
          "height": 34
        }
      },
      "source": [
        "!printf '%s ---- %f' 'hola mundo' 1.235\n",
        "!printf '%15s ---- %8.2f' 'hola mundo' 1.235\n",
        "!printf '%15s ---- %8.2f' 'hola mundo' 123.5"
      ],
      "execution_count": 0,
      "outputs": [
        {
          "output_type": "stream",
          "text": [
            "hola mundo ---- 1.235000     hola mundo ----     1.24     hola mundo ----   123.50"
          ],
          "name": "stdout"
        }
      ]
    },
    {
      "cell_type": "code",
      "metadata": {
        "id": "G7lucA42wmXi",
        "colab_type": "code",
        "outputId": "d1e9073a-9c06-405a-c4c9-550c008b7523",
        "colab": {
          "base_uri": "https://localhost:8080/",
          "height": 101
        }
      },
      "source": [
        "!seq 5\n"
      ],
      "execution_count": 0,
      "outputs": [
        {
          "output_type": "stream",
          "text": [
            "1\n",
            "2\n",
            "3\n",
            "4\n",
            "5\n"
          ],
          "name": "stdout"
        }
      ]
    },
    {
      "cell_type": "code",
      "metadata": {
        "id": "5jCT_M1-yAx7",
        "colab_type": "code",
        "outputId": "9f9e32a3-92c4-432e-c58c-8403a1bef3ba",
        "colab": {
          "base_uri": "https://localhost:8080/",
          "height": 101
        }
      },
      "source": [
        "!seq -f'linea %g' 5"
      ],
      "execution_count": 0,
      "outputs": [
        {
          "output_type": "stream",
          "text": [
            "linea 1\n",
            "linea 2\n",
            "linea 3\n",
            "linea 4\n",
            "linea 5\n"
          ],
          "name": "stdout"
        }
      ]
    },
    {
      "cell_type": "code",
      "metadata": {
        "id": "H1XvQnKPyIEm",
        "colab_type": "code",
        "outputId": "93c68f7e-7993-491e-e207-fd009b38b81c",
        "colab": {
          "base_uri": "https://localhost:8080/",
          "height": 34
        }
      },
      "source": [
        "!seq -s, 2 2 10"
      ],
      "execution_count": 0,
      "outputs": [
        {
          "output_type": "stream",
          "text": [
            "2,4,6,8,10\n"
          ],
          "name": "stdout"
        }
      ]
    },
    {
      "cell_type": "code",
      "metadata": {
        "id": "hA93GIZbyIMN",
        "colab_type": "code",
        "outputId": "05f46e26-211a-45a4-a351-2f7419b98eb8",
        "colab": {
          "base_uri": "https://localhost:8080/",
          "height": 67
        }
      },
      "source": [
        "!seq 0 0.05 0.1"
      ],
      "execution_count": 0,
      "outputs": [
        {
          "output_type": "stream",
          "text": [
            "0.00\n",
            "0.05\n",
            "0.10\n"
          ],
          "name": "stdout"
        }
      ]
    },
    {
      "cell_type": "code",
      "metadata": {
        "id": "GYll_TJGyIRt",
        "colab_type": "code",
        "outputId": "4d012872-ccef-4131-970b-7706d5925050",
        "colab": {
          "base_uri": "https://localhost:8080/",
          "height": 67
        }
      },
      "source": [
        "!seq -w 0 0.05 0.1"
      ],
      "execution_count": 0,
      "outputs": [
        {
          "output_type": "stream",
          "text": [
            "0.00\n",
            "0.05\n",
            "0.10\n"
          ],
          "name": "stdout"
        }
      ]
    },
    {
      "cell_type": "code",
      "metadata": {
        "id": "Ja6eGhgK3KDO",
        "colab_type": "code",
        "colab": {
          "base_uri": "https://localhost:8080/",
          "height": 134
        },
        "outputId": "421f4ea5-aae5-4d51-93ba-8e19ee8d13b0"
      },
      "source": [
        "%%bash\n",
        "seq -w 0 2 10\n",
        "echo hola \\\n",
        "mundo"
      ],
      "execution_count": 26,
      "outputs": [
        {
          "output_type": "stream",
          "text": [
            "00\n",
            "02\n",
            "04\n",
            "06\n",
            "08\n",
            "10\n",
            "hola mundo\n"
          ],
          "name": "stdout"
        }
      ]
    },
    {
      "cell_type": "markdown",
      "metadata": {
        "id": "ToFT96Xb5b4c",
        "colab_type": "text"
      },
      "source": [
        "Redireccionamiento"
      ]
    },
    {
      "cell_type": "code",
      "metadata": {
        "id": "M5YTQSZY5duz",
        "colab_type": "code",
        "colab": {
          "base_uri": "https://localhost:8080/",
          "height": 185
        },
        "outputId": "61cf542a-b0d8-48ff-d101-efa764ca578b"
      },
      "source": [
        "%%bash\n",
        "echo hola && echo mundo\n",
        "# manda hola mundo a un archivo\n",
        "echo hola mundo > clase.txt\n",
        "echo ''\n",
        "echo esta es la segunda linea >> clase.txt\n",
        "# cat muestra todo el archivo\n",
        "cat clase.txt\n",
        "# head muestra las primeras líneas\n",
        "head clase.txt\n",
        "echo ''\n",
        "# tail muestra las últimas líneas\n",
        "tail clase.txt"
      ],
      "execution_count": 39,
      "outputs": [
        {
          "output_type": "stream",
          "text": [
            "hola\n",
            "mundo\n",
            "\n",
            "hola mundo\n",
            "esta es la segunda linea\n",
            "hola mundo\n",
            "esta es la segunda linea\n",
            "\n",
            "hola mundo\n",
            "esta es la segunda linea\n"
          ],
          "name": "stdout"
        }
      ]
    },
    {
      "cell_type": "code",
      "metadata": {
        "id": "Es9m06ES7QHH",
        "colab_type": "code",
        "colab": {}
      },
      "source": [
        "%%bash\n",
        "echo \"CustomerID, Customer\n",
        "1, A\n",
        "2,B\" > clase.txt"
      ],
      "execution_count": 0,
      "outputs": []
    },
    {
      "cell_type": "code",
      "metadata": {
        "id": "IisjsA6P7yI6",
        "colab_type": "code",
        "colab": {
          "base_uri": "https://localhost:8080/",
          "height": 34
        },
        "outputId": "d49eaa7d-2e86-46cd-8a11-12b6229474ee"
      },
      "source": [
        "%%bash\n",
        "cat > out.1 <<E0F\n",
        "CustomerID, Customer\n",
        "   1, Customer A\n",
        "   2, Customer B\n",
        "EOF"
      ],
      "execution_count": 44,
      "outputs": [
        {
          "output_type": "stream",
          "text": [
            "bash: line 5: warning: here-document at line 1 delimited by end-of-file (wanted `E0F')\n"
          ],
          "name": "stderr"
        }
      ]
    },
    {
      "cell_type": "code",
      "metadata": {
        "id": "_l-I14pO8hjU",
        "colab_type": "code",
        "colab": {
          "base_uri": "https://localhost:8080/",
          "height": 168
        },
        "outputId": "c9a1bd24-3fc6-4696-f12f-9b0ec98f1e0c"
      },
      "source": [
        "%%bash\n",
        "seq -f\"linea %g\" 1 1 3 > out.1\n",
        "seq -f\"linea %g\" 4 1 6 > out.2\n",
        "seq -f\"linea %g\" 7 1 9 > out.3\n",
        "cat out.1 out.2 out.2"
      ],
      "execution_count": 45,
      "outputs": [
        {
          "output_type": "stream",
          "text": [
            "linea 1\n",
            "linea 2\n",
            "linea 3\n",
            "linea 4\n",
            "linea 5\n",
            "linea 6\n",
            "linea 4\n",
            "linea 5\n",
            "linea 6\n"
          ],
          "name": "stdout"
        }
      ]
    },
    {
      "cell_type": "code",
      "metadata": {
        "id": "6giC8jPu8-Ty",
        "colab_type": "code",
        "colab": {
          "base_uri": "https://localhost:8080/",
          "height": 218
        },
        "outputId": "c18ce492-d7d6-49cc-f670-6ec1992bc3c1"
      },
      "source": [
        "%%bash\n",
        "seq -f\"linea %g\" 1 1 3 > out1.1\n",
        "seq -f\"linea %g\" 4 1 6 > out2.1\n",
        "seq -f\"linea %g\" 7 1 9 > out3.1\n",
        "cat *.1"
      ],
      "execution_count": 46,
      "outputs": [
        {
          "output_type": "stream",
          "text": [
            "linea 1\n",
            "linea 2\n",
            "linea 3\n",
            "linea 1\n",
            "linea 2\n",
            "linea 3\n",
            "linea 4\n",
            "linea 5\n",
            "linea 6\n",
            "linea 7\n",
            "linea 8\n",
            "linea 9\n"
          ],
          "name": "stdout"
        }
      ]
    },
    {
      "cell_type": "code",
      "metadata": {
        "id": "4LcTLvhf9aWa",
        "colab_type": "code",
        "colab": {
          "base_uri": "https://localhost:8080/",
          "height": 470
        },
        "outputId": "87d2f3e5-0282-4361-fc9b-8797413efef0"
      },
      "source": [
        "%%bash\n",
        "seq -f\"linea %g\" 1 1 100 > out.1\n",
        "head out.1\n",
        "echo ''\n",
        "tail out.1\n",
        "echo ''\n",
        "tail -n5 out.1"
      ],
      "execution_count": 53,
      "outputs": [
        {
          "output_type": "stream",
          "text": [
            "linea 1\n",
            "linea 2\n",
            "linea 3\n",
            "linea 4\n",
            "linea 5\n",
            "linea 6\n",
            "linea 7\n",
            "linea 8\n",
            "linea 9\n",
            "linea 10\n",
            "\n",
            "linea 91\n",
            "linea 92\n",
            "linea 93\n",
            "linea 94\n",
            "linea 95\n",
            "linea 96\n",
            "linea 97\n",
            "linea 98\n",
            "linea 99\n",
            "linea 100\n",
            "\n",
            "linea 96\n",
            "linea 97\n",
            "linea 98\n",
            "linea 99\n",
            "linea 100\n"
          ],
          "name": "stdout"
        }
      ]
    },
    {
      "cell_type": "code",
      "metadata": {
        "id": "54yn5jUe96ZS",
        "colab_type": "code",
        "colab": {
          "base_uri": "https://localhost:8080/",
          "height": 34
        },
        "outputId": "7486941a-98db-45a7-c9b1-d0d81a3e674f"
      },
      "source": [
        "%%bash\n",
        "tail 2 *.1 > completos.txt"
      ],
      "execution_count": 56,
      "outputs": [
        {
          "output_type": "stream",
          "text": [
            "tail: cannot open '2' for reading: No such file or directory\n"
          ],
          "name": "stderr"
        }
      ]
    },
    {
      "cell_type": "code",
      "metadata": {
        "id": "axkl4hc8-xxt",
        "colab_type": "code",
        "colab": {
          "base_uri": "https://localhost:8080/",
          "height": 50
        },
        "outputId": "335501d8-5571-4cef-9d19-32456d1d3f76"
      },
      "source": [
        "ls -1 *.txt"
      ],
      "execution_count": 57,
      "outputs": [
        {
          "output_type": "stream",
          "text": [
            "clase.txt\n",
            "completos.txt\n"
          ],
          "name": "stdout"
        }
      ]
    },
    {
      "cell_type": "code",
      "metadata": {
        "id": "q2bMbiI2-4Mp",
        "colab_type": "code",
        "colab": {}
      },
      "source": [
        "# ver archivos muy grandes : less file.txt\n",
        "# me salgo con: q"
      ],
      "execution_count": 0,
      "outputs": []
    },
    {
      "cell_type": "code",
      "metadata": {
        "id": "AEz_yt6S_eNu",
        "colab_type": "code",
        "colab": {
          "base_uri": "https://localhost:8080/",
          "height": 336
        },
        "outputId": "9cb43ea8-d4f0-44a3-9111-ddaf6e06f5f7"
      },
      "source": [
        "!seq -f'linea %g' 3 > out.1\n",
        "!cat out.1 out.1 out.1 \n",
        "!echo ''\n",
        "!cat out.1 out.1 out.1 | sort -r > ordenado.txt && cat ordenado.txt"
      ],
      "execution_count": 63,
      "outputs": [
        {
          "output_type": "stream",
          "text": [
            "linea 1\n",
            "linea 2\n",
            "linea 3\n",
            "linea 1\n",
            "linea 2\n",
            "linea 3\n",
            "linea 1\n",
            "linea 2\n",
            "linea 3\n",
            "\n",
            "linea 3\n",
            "linea 3\n",
            "linea 3\n",
            "linea 2\n",
            "linea 2\n",
            "linea 2\n",
            "linea 1\n",
            "linea 1\n",
            "linea 1\n"
          ],
          "name": "stdout"
        }
      ]
    },
    {
      "cell_type": "code",
      "metadata": {
        "id": "9PIoa1HCBM9y",
        "colab_type": "code",
        "colab": {
          "base_uri": "https://localhost:8080/",
          "height": 218
        },
        "outputId": "d004d975-f7e8-4263-805b-4946c0687992"
      },
      "source": [
        "%%bash\n",
        "seq -f'linea %g' 3 > out.1 # genera el primer archivo de datos\n",
        "seq -f'linea %g' 3 > out.2 # genera el segundo archivo de datos\n",
        "cat out.1 out.2 out.1 out.2"
      ],
      "execution_count": 65,
      "outputs": [
        {
          "output_type": "stream",
          "text": [
            "linea 1\n",
            "linea 2\n",
            "linea 3\n",
            "linea 1\n",
            "linea 2\n",
            "linea 3\n",
            "linea 1\n",
            "linea 2\n",
            "linea 3\n",
            "linea 1\n",
            "linea 2\n",
            "linea 3\n"
          ],
          "name": "stdout"
        }
      ]
    },
    {
      "cell_type": "code",
      "metadata": {
        "id": "pOqolZcdBaHn",
        "colab_type": "code",
        "colab": {
          "base_uri": "https://localhost:8080/",
          "height": 218
        },
        "outputId": "6565ea3f-d568-439a-9651-0e90803d7d96"
      },
      "source": [
        "cat out.1 out.2 out.1 out.2 |  uniq"
      ],
      "execution_count": 66,
      "outputs": [
        {
          "output_type": "stream",
          "text": [
            "linea 1\n",
            "linea 2\n",
            "linea 3\n",
            "linea 1\n",
            "linea 2\n",
            "linea 3\n",
            "linea 1\n",
            "linea 2\n",
            "linea 3\n",
            "linea 1\n",
            "linea 2\n",
            "linea 3\n"
          ],
          "name": "stdout"
        }
      ]
    },
    {
      "cell_type": "code",
      "metadata": {
        "id": "-bdYN7-8Bbc4",
        "colab_type": "code",
        "colab": {
          "base_uri": "https://localhost:8080/",
          "height": 67
        },
        "outputId": "0daf611e-ae95-4b05-8ab4-c1556d612963"
      },
      "source": [
        "cat out.1 out.2 out.1 out.2 | sort | uniq"
      ],
      "execution_count": 67,
      "outputs": [
        {
          "output_type": "stream",
          "text": [
            "linea 1\n",
            "linea 2\n",
            "linea 3\n"
          ],
          "name": "stdout"
        }
      ]
    },
    {
      "cell_type": "code",
      "metadata": {
        "id": "RstNc7hKBg9n",
        "colab_type": "code",
        "colab": {
          "base_uri": "https://localhost:8080/",
          "height": 269
        },
        "outputId": "1a0aa465-9a4f-49df-8537-dcbdbb5d0839"
      },
      "source": [
        "%%bash \n",
        "wc -l out.1 out.2 # número de líneas\n",
        "echo ''\n",
        "wc -m out.1 out.2 # número de caracteres\n",
        "echo ''\n",
        "wc -w out.1 out.2 # número de palabras\n",
        "echo ''\n",
        "wc out.1 out.2"
      ],
      "execution_count": 70,
      "outputs": [
        {
          "output_type": "stream",
          "text": [
            " 3 out.1\n",
            " 3 out.2\n",
            " 6 total\n",
            "\n",
            "24 out.1\n",
            "24 out.2\n",
            "48 total\n",
            "\n",
            " 6 out.1\n",
            " 6 out.2\n",
            "12 total\n",
            "\n",
            " 3  6 24 out.1\n",
            " 3  6 24 out.2\n",
            " 6 12 48 total\n"
          ],
          "name": "stdout"
        }
      ]
    },
    {
      "cell_type": "code",
      "metadata": {
        "id": "Eboo5fjuByNC",
        "colab_type": "code",
        "colab": {
          "base_uri": "https://localhost:8080/",
          "height": 202
        },
        "outputId": "7c20924a-6b5b-4590-9ad0-c1ddde759d1c"
      },
      "source": [
        "!seq 20 | grep 1"
      ],
      "execution_count": 72,
      "outputs": [
        {
          "output_type": "stream",
          "text": [
            "1\n",
            "10\n",
            "11\n",
            "12\n",
            "13\n",
            "14\n",
            "15\n",
            "16\n",
            "17\n",
            "18\n",
            "19\n"
          ],
          "name": "stdout"
        }
      ]
    },
    {
      "cell_type": "code",
      "metadata": {
        "id": "4FFdgTT9B4ZK",
        "colab_type": "code",
        "colab": {
          "base_uri": "https://localhost:8080/",
          "height": 202
        },
        "outputId": "73d719c7-5eca-48cd-9806-7180d04a8afe"
      },
      "source": [
        "%%bash\n",
        "seq -f'linea %g' 20 > out.1\n",
        "grep 1 out.1"
      ],
      "execution_count": 73,
      "outputs": [
        {
          "output_type": "stream",
          "text": [
            "linea 1\n",
            "linea 10\n",
            "linea 11\n",
            "linea 12\n",
            "linea 13\n",
            "linea 14\n",
            "linea 15\n",
            "linea 16\n",
            "linea 17\n",
            "linea 18\n",
            "linea 19\n"
          ],
          "name": "stdout"
        }
      ]
    },
    {
      "cell_type": "code",
      "metadata": {
        "id": "UWE_1X3GJV2C",
        "colab_type": "code",
        "colab": {
          "base_uri": "https://localhost:8080/",
          "height": 403
        },
        "outputId": "eb338525-99c6-48ac-ab32-db6fc0f827ff"
      },
      "source": [
        "!seq 100 | grep 1$  # imprime los números del 1 al 100 que finalizan con 1.\n",
        "!echo ''\n",
        "!seq 100 | grep ^1  # imprime los números del 1 al 100 que empiezan con 1."
      ],
      "execution_count": 76,
      "outputs": [
        {
          "output_type": "stream",
          "text": [
            "1\n",
            "11\n",
            "21\n",
            "31\n",
            "41\n",
            "51\n",
            "61\n",
            "71\n",
            "81\n",
            "91\n",
            "\n",
            "1\n",
            "10\n",
            "11\n",
            "12\n",
            "13\n",
            "14\n",
            "15\n",
            "16\n",
            "17\n",
            "18\n",
            "19\n",
            "100\n"
          ],
          "name": "stdout"
        }
      ]
    },
    {
      "cell_type": "code",
      "metadata": {
        "id": "ifa9trrcJh3d",
        "colab_type": "code",
        "colab": {
          "base_uri": "https://localhost:8080/",
          "height": 34
        },
        "outputId": "f237fbf8-c6f5-4698-80dd-33604ed569ae"
      },
      "source": [
        "!seq 20 | grep 1 | wc -l"
      ],
      "execution_count": 78,
      "outputs": [
        {
          "output_type": "stream",
          "text": [
            "11\n"
          ],
          "name": "stdout"
        }
      ]
    },
    {
      "cell_type": "code",
      "metadata": {
        "id": "HOptQukcJwhU",
        "colab_type": "code",
        "colab": {
          "base_uri": "https://localhost:8080/",
          "height": 101
        },
        "outputId": "12b6a309-e191-4ccc-bf2b-536865d468c2"
      },
      "source": [
        "%%bash\n",
        "echo 'h-o-l-a- -m-u-n-d-o' > out.1\n",
        "tr -d '-'  < out.1 # borra los caracteres '-'.\n",
        "echo ''\n",
        "echo 'h-o-l-a- -m-u-n-d-o' > out.1\n",
        "tr '-'  '=' < out.1  #  '-' por '='.\n",
        "echo ''\n",
        "echo 'h-o-l-a- -m-u-n-d-o' > out.1\n",
        "tr '[:lower:]'  '[:upper:]' < out.1  # minúsculas a mayúsculas.\n",
        "\n",
        "# de español a inglés\n",
        "# cat wch | tr ',' '.' | tr ';' ',' > calse.txt"
      ],
      "execution_count": 79,
      "outputs": [
        {
          "output_type": "stream",
          "text": [
            "hola mundo\n",
            "\n",
            "h=o=l=a= =m=u=n=d=o\n",
            "\n",
            "H-O-L-A- -M-U-N-D-O\n"
          ],
          "name": "stdout"
        }
      ]
    },
    {
      "cell_type": "code",
      "metadata": {
        "id": "1N5aVdwxNLPe",
        "colab_type": "code",
        "colab": {}
      },
      "source": [
        "%%bash\n",
        "echo \"Date, Year, CustomerID, Value\n",
        "2013-01-12, 2013, 1, 100\n",
        "2014-05-12, 2014, 1, 100\n",
        "2013-02-25, 2013, 2, 200\n",
        "2013-04-04, 2013, 1, 100\n",
        "2013-06-21, 2013, 2, 200\n",
        "2014-05-12, 2014, 1, 100\n",
        "2014-05-12, 2014, 2, 200\n",
        "2013-02-28, 2013, 1, 100\n",
        "2013-08-02, 2013, 1, 100\" > clase.txt"
      ],
      "execution_count": 0,
      "outputs": []
    },
    {
      "cell_type": "code",
      "metadata": {
        "id": "3l3V6ybRRe9W",
        "colab_type": "code",
        "colab": {}
      },
      "source": [
        "!head -n1 clase.txt | tr '[:upper:]'  '[:lower:]' > conv.txt && tail +2 clase.txt > conv.txt"
      ],
      "execution_count": 0,
      "outputs": []
    },
    {
      "cell_type": "code",
      "metadata": {
        "id": "SIFPn5HRS-Id",
        "colab_type": "code",
        "colab": {}
      },
      "source": [
        "!head -n1 clase.txt | tr ','  '\\n' > conv2.txt"
      ],
      "execution_count": 0,
      "outputs": []
    },
    {
      "cell_type": "code",
      "metadata": {
        "id": "QufzGa-TT50e",
        "colab_type": "code",
        "colab": {
          "base_uri": "https://localhost:8080/",
          "height": 50
        },
        "outputId": "83772de2-300a-4cb0-d43a-3dfbf9216f5a"
      },
      "source": [
        "# Cuantas líneas tiene un archivo csv \n",
        "!wc -l clase.txt\n",
        "!wc -l conv2.txt"
      ],
      "execution_count": 130,
      "outputs": [
        {
          "output_type": "stream",
          "text": [
            "10 clase.txt\n",
            "4 conv2.txt\n"
          ],
          "name": "stdout"
        }
      ]
    },
    {
      "cell_type": "code",
      "metadata": {
        "id": "32U7xAM9V94b",
        "colab_type": "code",
        "colab": {
          "base_uri": "https://localhost:8080/",
          "height": 67
        },
        "outputId": "878a2b7d-1db4-408a-d745-b1b3da7d6d0c"
      },
      "source": [
        "%%bash\n",
        "echo \"123456790\n",
        "abcdefghi\n",
        "jklmnopqr\" > out.1\n",
        "cut -c3-5 out.1"
      ],
      "execution_count": 131,
      "outputs": [
        {
          "output_type": "stream",
          "text": [
            "345\n",
            "cde\n",
            "lmn\n"
          ],
          "name": "stdout"
        }
      ]
    },
    {
      "cell_type": "code",
      "metadata": {
        "id": "TLGPyinMWbYT",
        "colab_type": "code",
        "colab": {
          "base_uri": "https://localhost:8080/",
          "height": 168
        },
        "outputId": "f95c059a-2221-480d-8eab-d46556293cb7"
      },
      "source": [
        "%%bash\n",
        "echo \"FieldA, FieldD, FieldE\n",
        "   2, X, 2X\n",
        "   3, Y, 3Y\n",
        "   4, Z, 4Z\" > out.1\n",
        "cut -d, -f2 out.1\n",
        "echo ''\n",
        "# este código extrae las columnas 1 y 3\n",
        "cut -d, -f1,3 out.1"
      ],
      "execution_count": 134,
      "outputs": [
        {
          "output_type": "stream",
          "text": [
            " FieldD\n",
            " X\n",
            " Y\n",
            " Z\n",
            "\n",
            "FieldA, FieldE\n",
            "   2, 2X\n",
            "   3, 3Y\n",
            "   4, 4Z\n"
          ],
          "name": "stdout"
        }
      ]
    },
    {
      "cell_type": "code",
      "metadata": {
        "id": "EBWbuw21WQh_",
        "colab_type": "code",
        "colab": {
          "base_uri": "https://localhost:8080/",
          "height": 118
        },
        "outputId": "a28f19d4-5b46-4b83-9304-e5b40ba6c59b"
      },
      "source": [
        "%%bash\n",
        "seq -f\"--> [%g] <--\" 3 > out.1\n",
        "seq -f\"------> [%g] <------\" 3 >> out.1\n",
        "cat out.1"
      ],
      "execution_count": 136,
      "outputs": [
        {
          "output_type": "stream",
          "text": [
            "--> [1] <--\n",
            "--> [2] <--\n",
            "--> [3] <--\n",
            "------> [1] <------\n",
            "------> [2] <------\n",
            "------> [3] <------\n"
          ],
          "name": "stdout"
        }
      ]
    },
    {
      "cell_type": "code",
      "metadata": {
        "id": "H_7n8fKAXavK",
        "colab_type": "code",
        "colab": {
          "base_uri": "https://localhost:8080/",
          "height": 319
        },
        "outputId": "4f730db9-6624-406b-b2b4-9294f6e553ce"
      },
      "source": [
        "# extrae la porción de texto después de '['\n",
        "!cut -d'[' -f2 out.1\n",
        "!cut -d']' -f1 out.1\n",
        "!cut -d'[' -f2 out.1 | cut -d']' -f1"
      ],
      "execution_count": 139,
      "outputs": [
        {
          "output_type": "stream",
          "text": [
            "1] <--\n",
            "2] <--\n",
            "3] <--\n",
            "1] <------\n",
            "2] <------\n",
            "3] <------\n",
            "--> [1\n",
            "--> [2\n",
            "--> [3\n",
            "------> [1\n",
            "------> [2\n",
            "------> [3\n",
            "1\n",
            "2\n",
            "3\n",
            "1\n",
            "2\n",
            "3\n"
          ],
          "name": "stdout"
        }
      ]
    },
    {
      "cell_type": "code",
      "metadata": {
        "id": "zTGSDLySZVRh",
        "colab_type": "code",
        "colab": {
          "base_uri": "https://localhost:8080/",
          "height": 151
        },
        "outputId": "c1950cbe-fd26-4da8-d746-91982264a401"
      },
      "source": [
        "%%bash\n",
        "echo \"Bash is a Unix shell and command language\n",
        "written by Brian Fox for the\n",
        "GNU Project as a free software\n",
        "replacement for the Bourne shell.\" > out.1\n",
        "cat out.1\n",
        "# el delimitador es el espacio en blanco\n",
        "cut -d' ' -f2 out.1"
      ],
      "execution_count": 144,
      "outputs": [
        {
          "output_type": "stream",
          "text": [
            "Bash is a Unix shell and command language\n",
            "written by Brian Fox for the\n",
            "GNU Project as a free software\n",
            "replacement for the Bourne shell.\n",
            "is\n",
            "by\n",
            "Project\n",
            "for\n"
          ],
          "name": "stdout"
        }
      ]
    },
    {
      "cell_type": "code",
      "metadata": {
        "id": "Uv_jVaLCZreK",
        "colab_type": "code",
        "colab": {}
      },
      "source": [
        "%%bash\n",
        "echo \"key, F1, F2\n",
        "  1, 11, 12\n",
        "  2, 21, 22\" > out.1\n",
        "\n",
        "  echo \"key, F3, F4\n",
        "  1, 13, 14\n",
        "  2, 23, 24\n",
        "  3, 33, 34\" > out.1\n",
        "\n",
        "\n",
        "# agrega out.2 a out.1 usando como clave el primer campo (por defecto)\n",
        "join -t, out.1 out.2\n"
      ],
      "execution_count": 0,
      "outputs": []
    },
    {
      "cell_type": "code",
      "metadata": {
        "id": "bhp4GfDKaJyq",
        "colab_type": "code",
        "colab": {
          "base_uri": "https://localhost:8080/",
          "height": 302
        },
        "outputId": "85bc966b-9bc2-462b-abeb-2a3b03652edc"
      },
      "source": [
        "%%bash\n",
        "seq -f'linea %g' 5 > out.1; cat out.1\n",
        "echo ''\n",
        "seq -f'linea %g' 6 1 10 > out.2; cat out.2\n",
        "echo ''\n",
        "paste -d'-' out.1 out.2"
      ],
      "execution_count": 148,
      "outputs": [
        {
          "output_type": "stream",
          "text": [
            "linea 1\n",
            "linea 2\n",
            "linea 3\n",
            "linea 4\n",
            "linea 5\n",
            "\n",
            "linea 6\n",
            "linea 7\n",
            "linea 8\n",
            "linea 9\n",
            "linea 10\n",
            "\n",
            "linea 1-linea 6\n",
            "linea 2-linea 7\n",
            "linea 3-linea 8\n",
            "linea 4-linea 9\n",
            "linea 5-linea 10\n"
          ],
          "name": "stdout"
        }
      ]
    },
    {
      "cell_type": "code",
      "metadata": {
        "id": "wTXpb6m3aqp1",
        "colab_type": "code",
        "colab": {
          "base_uri": "https://localhost:8080/",
          "height": 202
        },
        "outputId": "8089b180-fca1-4bed-be88-390ab9acb389"
      },
      "source": [
        "!cat -n out.1\n",
        "!echo ''\n",
        "!cat out.1 | awk '{print NR,$0}'\n"
      ],
      "execution_count": 157,
      "outputs": [
        {
          "output_type": "stream",
          "text": [
            "     1\tlinea 1\n",
            "     2\tlinea 2\n",
            "     3\tlinea 3\n",
            "     4\tlinea 4\n",
            "     5\tlinea 5\n",
            "\n",
            "1 linea 1\n",
            "2 linea 2\n",
            "3 linea 3\n",
            "4 linea 4\n",
            "5 linea 5\n"
          ],
          "name": "stdout"
        }
      ]
    }
  ]
}