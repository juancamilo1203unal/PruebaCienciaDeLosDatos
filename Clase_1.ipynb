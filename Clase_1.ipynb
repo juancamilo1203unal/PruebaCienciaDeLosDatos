{
  "nbformat": 4,
  "nbformat_minor": 0,
  "metadata": {
    "colab": {
      "name": "Clase 1",
      "provenance": [],
      "collapsed_sections": [],
      "include_colab_link": true
    },
    "kernelspec": {
      "name": "python3",
      "display_name": "Python 3"
    }
  },
  "cells": [
    {
      "cell_type": "markdown",
      "metadata": {
        "id": "view-in-github",
        "colab_type": "text"
      },
      "source": [
        "<a href=\"https://colab.research.google.com/github/juancamilo1203unal/PruebaCienciaDeLosDatos/blob/master/Clase_1.ipynb\" target=\"_parent\"><img src=\"https://colab.research.google.com/assets/colab-badge.svg\" alt=\"Open In Colab\"/></a>"
      ]
    },
    {
      "cell_type": "markdown",
      "metadata": {
        "id": "EIpj5eja4MXp",
        "colab_type": "text"
      },
      "source": [
        "Me da la ubicación actual, en este caso: carpeta raiz /content. Equivalente al disco C: en windows"
      ]
    },
    {
      "cell_type": "code",
      "metadata": {
        "id": "L501oowV4KcN",
        "colab_type": "code",
        "outputId": "99437a23-8bec-4685-9170-f55a53a8cc40",
        "colab": {
          "base_uri": "https://localhost:8080/",
          "height": 34
        }
      },
      "source": [
        "!pwd"
      ],
      "execution_count": 0,
      "outputs": [
        {
          "output_type": "stream",
          "text": [
            "/content\n"
          ],
          "name": "stdout"
        }
      ]
    },
    {
      "cell_type": "markdown",
      "metadata": {
        "id": "D_NR__M64bGD",
        "colab_type": "text"
      },
      "source": [
        "Me muestra el contenido de content"
      ]
    },
    {
      "cell_type": "code",
      "metadata": {
        "id": "zfQn_-004d8r",
        "colab_type": "code",
        "outputId": "e6cac8cf-2364-439d-dc74-549b07edeab8",
        "colab": {
          "base_uri": "https://localhost:8080/",
          "height": 34
        }
      },
      "source": [
        "!ls"
      ],
      "execution_count": 0,
      "outputs": [
        {
          "output_type": "stream",
          "text": [
            "sample_data\n"
          ],
          "name": "stdout"
        }
      ]
    },
    {
      "cell_type": "markdown",
      "metadata": {
        "id": "0Ngi9seS449u",
        "colab_type": "text"
      },
      "source": [
        ""
      ]
    },
    {
      "cell_type": "code",
      "metadata": {
        "id": "oxkJoAqq4q-4",
        "colab_type": "code",
        "outputId": "2bed15fb-8434-4a26-a059-6d8f47ed9430",
        "colab": {
          "base_uri": "https://localhost:8080/",
          "height": 50
        }
      },
      "source": [
        "!ls -l"
      ],
      "execution_count": 0,
      "outputs": [
        {
          "output_type": "stream",
          "text": [
            "total 4\n",
            "drwxr-xr-x 1 root root 4096 Aug 27 16:17 sample_data\n"
          ],
          "name": "stdout"
        }
      ]
    },
    {
      "cell_type": "markdown",
      "metadata": {
        "id": "Q410ncac5Ehi",
        "colab_type": "text"
      },
      "source": [
        "Muestra el contenido de /content. Pero desde la raiz"
      ]
    },
    {
      "cell_type": "code",
      "metadata": {
        "id": "Ytvvj_t45D8A",
        "colab_type": "code",
        "outputId": "8dd22220-4904-4442-c1fb-d6ff587aa38e",
        "colab": {
          "base_uri": "https://localhost:8080/",
          "height": 34
        }
      },
      "source": [
        "!ls /content"
      ],
      "execution_count": 0,
      "outputs": [
        {
          "output_type": "stream",
          "text": [
            "sample_data\n"
          ],
          "name": "stdout"
        }
      ]
    },
    {
      "cell_type": "markdown",
      "metadata": {
        "id": "oefUvE4N50PG",
        "colab_type": "text"
      },
      "source": [
        "El contenido de la raiz"
      ]
    },
    {
      "cell_type": "code",
      "metadata": {
        "id": "mt8dbw6452Ie",
        "colab_type": "code",
        "outputId": "1ea8f737-a2a1-431e-cf91-90592ec9f557",
        "colab": {
          "base_uri": "https://localhost:8080/",
          "height": 67
        }
      },
      "source": [
        "# Este es un comentario\n",
        "!ls /"
      ],
      "execution_count": 0,
      "outputs": [
        {
          "output_type": "stream",
          "text": [
            "bin\t datalab  home\t lib64\topt   run   swift\t\t  tmp\t var\n",
            "boot\t dev\t  lib\t media\tproc  sbin  sys\t\t\t  tools\n",
            "content  etc\t  lib32  mnt\troot  srv   tensorflow-2.0.0-rc1  usr\n"
          ],
          "name": "stdout"
        }
      ]
    },
    {
      "cell_type": "markdown",
      "metadata": {
        "id": "eOVZUkQh9XTZ",
        "colab_type": "text"
      },
      "source": [
        "~ se refiere a mi carpeta"
      ]
    },
    {
      "cell_type": "code",
      "metadata": {
        "id": "KiQNRUmI9Z20",
        "colab_type": "code",
        "colab": {}
      },
      "source": [
        "!ls ~"
      ],
      "execution_count": 0,
      "outputs": []
    },
    {
      "cell_type": "markdown",
      "metadata": {
        "id": "hEMzhxVY9gwW",
        "colab_type": "text"
      },
      "source": [
        "Crea un archivo vacío con el nombre demo"
      ]
    },
    {
      "cell_type": "code",
      "metadata": {
        "id": "ZC4voY_E9c_-",
        "colab_type": "code",
        "colab": {}
      },
      "source": [
        "!touch demo.txt"
      ],
      "execution_count": 0,
      "outputs": []
    },
    {
      "cell_type": "code",
      "metadata": {
        "id": "noA6UM959rcM",
        "colab_type": "code",
        "colab": {
          "base_uri": "https://localhost:8080/",
          "height": 34
        },
        "outputId": "52719bfd-6151-4cad-a5db-1bb963b54d7b"
      },
      "source": [
        "!ls"
      ],
      "execution_count": 14,
      "outputs": [
        {
          "output_type": "stream",
          "text": [
            "demo.txt  sample_data\n"
          ],
          "name": "stdout"
        }
      ]
    },
    {
      "cell_type": "code",
      "metadata": {
        "id": "5ArbSPvn-WUJ",
        "colab_type": "code",
        "colab": {
          "base_uri": "https://localhost:8080/",
          "height": 34
        },
        "outputId": "36344f51-531b-4837-cfe9-251726e9827f"
      },
      "source": [
        "# crear un directorio y después ejecuta ls\n",
        "!mkdir demo_clase && ls\n",
        "#eliminar directorio\n",
        "# !rmdir demo_slase"
      ],
      "execution_count": 19,
      "outputs": [
        {
          "output_type": "stream",
          "text": [
            "mkdir: cannot create directory ‘demo_clase’: File exists\n"
          ],
          "name": "stdout"
        }
      ]
    },
    {
      "cell_type": "code",
      "metadata": {
        "id": "FCC0DsEc-_sW",
        "colab_type": "code",
        "colab": {
          "base_uri": "https://localhost:8080/",
          "height": 34
        },
        "outputId": "59c6081a-a968-45c8-e375-3e7562e80a86"
      },
      "source": [
        "# para cambiarme de directorio\n",
        "!cd demo_clase && pwd"
      ],
      "execution_count": 21,
      "outputs": [
        {
          "output_type": "stream",
          "text": [
            "/content/demo_clase\n"
          ],
          "name": "stdout"
        }
      ]
    }
  ]
}