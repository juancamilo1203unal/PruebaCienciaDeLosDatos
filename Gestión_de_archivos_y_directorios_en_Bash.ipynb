{
  "nbformat": 4,
  "nbformat_minor": 0,
  "metadata": {
    "colab": {
      "name": "Gestión de archivos y directorios en Bash.ipynb",
      "provenance": [],
      "collapsed_sections": [],
      "include_colab_link": true
    },
    "kernelspec": {
      "name": "python3",
      "display_name": "Python 3"
    }
  },
  "cells": [
    {
      "cell_type": "markdown",
      "metadata": {
        "id": "view-in-github",
        "colab_type": "text"
      },
      "source": [
        "<a href=\"https://colab.research.google.com/github/juancamilo1203unal/PruebaCienciaDeLosDatos/blob/master/Gesti%C3%B3n_de_archivos_y_directorios_en_Bash.ipynb\" target=\"_parent\"><img src=\"https://colab.research.google.com/assets/colab-badge.svg\" alt=\"Open In Colab\"/></a>"
      ]
    },
    {
      "cell_type": "markdown",
      "metadata": {
        "id": "gd4l3_-wCk9P",
        "colab_type": "text"
      },
      "source": [
        "**Obtención de ayuda**"
      ]
    },
    {
      "cell_type": "code",
      "metadata": {
        "id": "yQtdLC5sA97a",
        "colab_type": "code",
        "colab": {
          "base_uri": "https://localhost:8080/",
          "height": 34
        },
        "outputId": "16e31b1b-5b8b-48f6-866c-9057cf0f31a8"
      },
      "source": [
        "# Obtener ayuda con man\n",
        "!man pwd"
      ],
      "execution_count": 5,
      "outputs": [
        {
          "output_type": "stream",
          "text": [
            "No manual entry for l\n"
          ],
          "name": "stdout"
        }
      ]
    },
    {
      "cell_type": "markdown",
      "metadata": {
        "id": "_7Hk8pZpCf-1",
        "colab_type": "text"
      },
      "source": [
        "**Organización del sistema de directorios y archivos**"
      ]
    },
    {
      "cell_type": "code",
      "metadata": {
        "id": "TNJnGIzzCQ5n",
        "colab_type": "code",
        "colab": {
          "base_uri": "https://localhost:8080/",
          "height": 34
        },
        "outputId": "f41b575b-9f10-4bf5-e0f4-d91020b30d53"
      },
      "source": [
        "# Determinación del directorio actual\n",
        "!pwd"
      ],
      "execution_count": 6,
      "outputs": [
        {
          "output_type": "stream",
          "text": [
            "/content\n"
          ],
          "name": "stdout"
        }
      ]
    },
    {
      "cell_type": "code",
      "metadata": {
        "id": "wawVbSOLDZAc",
        "colab_type": "code",
        "colab": {
          "base_uri": "https://localhost:8080/",
          "height": 34
        },
        "outputId": "afdc6ded-fa6a-4652-a86a-101e56cad012"
      },
      "source": [
        "# Listado del contenido de un directorio\n",
        "!ls"
      ],
      "execution_count": 7,
      "outputs": [
        {
          "output_type": "stream",
          "text": [
            "sample_data\n"
          ],
          "name": "stdout"
        }
      ]
    },
    {
      "cell_type": "code",
      "metadata": {
        "id": "2S2wZur-DZDs",
        "colab_type": "code",
        "colab": {
          "base_uri": "https://localhost:8080/",
          "height": 50
        },
        "outputId": "6ea5b0bb-f432-489f-be47-a1cffbbb03b0"
      },
      "source": [
        "# La opción -l del comando ls imprime información detallada del contenido del directorio de trabajo y sus respectivos permisos.\n",
        "!ls -l"
      ],
      "execution_count": 8,
      "outputs": [
        {
          "output_type": "stream",
          "text": [
            "total 4\n",
            "drwxr-xr-x 1 root root 4096 Aug 27 16:17 sample_data\n"
          ],
          "name": "stdout"
        }
      ]
    },
    {
      "cell_type": "code",
      "metadata": {
        "id": "J419sY9lDZG8",
        "colab_type": "code",
        "colab": {}
      },
      "source": [
        "# Creación de directorios\n",
        "!mkdir data"
      ],
      "execution_count": 0,
      "outputs": []
    },
    {
      "cell_type": "code",
      "metadata": {
        "id": "UdwIpqreDZJt",
        "colab_type": "code",
        "colab": {
          "base_uri": "https://localhost:8080/",
          "height": 34
        },
        "outputId": "2a6cf6c8-c6c2-4fa0-b595-e9cc6bb2eda7"
      },
      "source": [
        "# Para visualizar el contenido del directorio data (que está vacío) se utiliza igualmente el comando ls.\n",
        "!ls -l ./data"
      ],
      "execution_count": 10,
      "outputs": [
        {
          "output_type": "stream",
          "text": [
            "total 0\n"
          ],
          "name": "stdout"
        }
      ]
    },
    {
      "cell_type": "code",
      "metadata": {
        "id": "Pg63f4azDZMs",
        "colab_type": "code",
        "colab": {
          "base_uri": "https://localhost:8080/",
          "height": 34
        },
        "outputId": "2c00db38-f0c0-402c-f546-245f01243e7a"
      },
      "source": [
        "# Cambio del directorio actual\n",
        "!cd data && pwd"
      ],
      "execution_count": 11,
      "outputs": [
        {
          "output_type": "stream",
          "text": [
            "/content/data\n"
          ],
          "name": "stdout"
        }
      ]
    },
    {
      "cell_type": "code",
      "metadata": {
        "id": "CXRvNXDCDZO7",
        "colab_type": "code",
        "colab": {
          "base_uri": "https://localhost:8080/",
          "height": 34
        },
        "outputId": "8c11d185-89ba-414c-dd54-c8bda1e40500"
      },
      "source": [
        "# Eliminación de directorios\n",
        "!rmdir ./data"
      ],
      "execution_count": 14,
      "outputs": [
        {
          "output_type": "stream",
          "text": [
            "rmdir: failed to remove './data': No such file or directory\n"
          ],
          "name": "stdout"
        }
      ]
    },
    {
      "cell_type": "code",
      "metadata": {
        "id": "gOutWEBbEAtm",
        "colab_type": "code",
        "colab": {
          "base_uri": "https://localhost:8080/",
          "height": 34
        },
        "outputId": "6069858a-6e07-4ee5-c587-06aae0000015"
      },
      "source": [
        "# Creación de archivos vacíos\n",
        "!touch out.1\n",
        "\n",
        "# lista los archivos que empiezan por out\n",
        "!ls -l out*"
      ],
      "execution_count": 16,
      "outputs": [
        {
          "output_type": "stream",
          "text": [
            "-rw-r--r-- 1 root root 0 Sep 20 23:47 out.1\n"
          ],
          "name": "stdout"
        }
      ]
    },
    {
      "cell_type": "code",
      "metadata": {
        "id": "cnb3Z8qTEH-_",
        "colab_type": "code",
        "colab": {
          "base_uri": "https://localhost:8080/",
          "height": 50
        },
        "outputId": "eb50eaaf-769d-45ad-c0e5-a52fa178d8b8"
      },
      "source": [
        "# Copia de archivos\n",
        "!cp out.1 out.2\n",
        "!ls -l out*"
      ],
      "execution_count": 17,
      "outputs": [
        {
          "output_type": "stream",
          "text": [
            "-rw-r--r-- 1 root root 0 Sep 20 23:47 out.1\n",
            "-rw-r--r-- 1 root root 0 Sep 20 23:47 out.2\n"
          ],
          "name": "stdout"
        }
      ]
    },
    {
      "cell_type": "code",
      "metadata": {
        "id": "bgy1NGB9EL10",
        "colab_type": "code",
        "colab": {
          "base_uri": "https://localhost:8080/",
          "height": 50
        },
        "outputId": "b8b02d2a-0304-4206-d112-81cb01c30850"
      },
      "source": [
        "# Renombrado y movimiento de archivos\n",
        "!mv out.2 out.3\n",
        "!ls -l out*"
      ],
      "execution_count": 18,
      "outputs": [
        {
          "output_type": "stream",
          "text": [
            "-rw-r--r-- 1 root root 0 Sep 20 23:47 out.1\n",
            "-rw-r--r-- 1 root root 0 Sep 20 23:47 out.3\n"
          ],
          "name": "stdout"
        }
      ]
    },
    {
      "cell_type": "code",
      "metadata": {
        "id": "3mgWnQhxEMAW",
        "colab_type": "code",
        "colab": {}
      },
      "source": [
        "# Borrado de archivos\n",
        "!rm out*"
      ],
      "execution_count": 0,
      "outputs": []
    }
  ]
}